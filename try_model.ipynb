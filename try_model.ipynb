{
 "cells": [
  {
   "cell_type": "code",
   "execution_count": 10,
   "metadata": {},
   "outputs": [],
   "source": [
    "from keras.callbacks import TensorBoard"
   ]
  },
  {
   "cell_type": "code",
   "execution_count": 2,
   "metadata": {
    "collapsed": true
   },
   "outputs": [],
   "source": [
    "import pandas as pd\n",
    "import numpy as np\n",
    "import scipy\n",
    "import sys\n",
    "import imp"
   ]
  },
  {
   "cell_type": "code",
   "execution_count": 3,
   "metadata": {},
   "outputs": [
    {
     "data": {
      "text/plain": [
       "<module 'callbacks' from '/home/beginner/code/stock/callbacks.py'>"
      ]
     },
     "execution_count": 3,
     "metadata": {},
     "output_type": "execute_result"
    }
   ],
   "source": [
    "from process_data import load_data,get_rank_of_size\n",
    "from data_util import unpack_news_data,data_generator\n",
    "import models\n",
    "import callbacks\n",
    "imp.reload(models)\n",
    "imp.reload(callbacks)"
   ]
  },
  {
   "cell_type": "code",
   "execution_count": 4,
   "metadata": {
    "collapsed": true
   },
   "outputs": [],
   "source": [
    "rank = get_rank_of_size()\n",
    "rank.remove('XOM')\n",
    "rank.remove('GOOG')"
   ]
  },
  {
   "cell_type": "code",
   "execution_count": 5,
   "metadata": {},
   "outputs": [
    {
     "name": "stdout",
     "output_type": "stream",
     "text": [
      "data of FB is loaded\n",
      "data of AAPL is loaded\n",
      "data of GOOGL is loaded\n",
      "data of AMZN is loaded\n",
      "data of BAC is loaded\n",
      "data of JPM is loaded\n",
      "data of MSFT is loaded\n",
      "data of C is loaded\n",
      "data of WFC is loaded\n",
      "data of TSLA is loaded\n",
      "data of GE is loaded\n",
      "data of TWTR is loaded\n",
      "data of BABA is loaded\n",
      "data of INTC is loaded\n",
      "data of WMT is loaded\n",
      "data of IBM is loaded\n",
      "data of CVX is loaded\n",
      "data of VZ is loaded\n",
      "data of T is loaded\n",
      "data of DIS is loaded\n"
     ]
    }
   ],
   "source": [
    "data = load_data(rank[:20],encoder_kind='Bert')"
   ]
  },
  {
   "cell_type": "code",
   "execution_count": null,
   "metadata": {
    "collapsed": true
   },
   "outputs": [],
   "source": [
    "print(rank)"
   ]
  },
  {
   "cell_type": "code",
   "execution_count": null,
   "metadata": {
    "collapsed": true
   },
   "outputs": [],
   "source": [
    "# sparse matrix\n",
    "data[rank[0]]['train'][0][0][0].toarray().shape"
   ]
  },
  {
   "cell_type": "markdown",
   "metadata": {},
   "source": [
    "# TEXTUAL MODEL"
   ]
  },
  {
   "cell_type": "code",
   "execution_count": 57,
   "metadata": {
    "collapsed": true
   },
   "outputs": [],
   "source": [
    "model = models.build_textual_model()"
   ]
  },
  {
   "cell_type": "code",
   "execution_count": 58,
   "metadata": {},
   "outputs": [
    {
     "name": "stdout",
     "output_type": "stream",
     "text": [
      "_________________________________________________________________\n",
      "Layer (type)                 Output Shape              Param #   \n",
      "=================================================================\n",
      "input_1 (InputLayer)         (None, 7, 50, 768)        0         \n",
      "_________________________________________________________________\n",
      "time_distributed_1 (TimeDist (None, 7, 50, 768)        0         \n",
      "_________________________________________________________________\n",
      "time_distributed_2 (TimeDist (None, 7, 768)            7700      \n",
      "_________________________________________________________________\n",
      "time_distributed_3 (TimeDist (None, 7, 100)            76900     \n",
      "_________________________________________________________________\n",
      "bidirectional_1 (Bidirection (None, 7, 100)            45300     \n",
      "_________________________________________________________________\n",
      "attention_layer_2 (Attention (None, 100)               1020      \n",
      "_________________________________________________________________\n",
      "dense_2 (Dense)              (None, 10)                1010      \n",
      "_________________________________________________________________\n",
      "dense_3 (Dense)              (None, 2)                 22        \n",
      "=================================================================\n",
      "Total params: 131,952\n",
      "Trainable params: 131,952\n",
      "Non-trainable params: 0\n",
      "_________________________________________________________________\n",
      "None\n"
     ]
    }
   ],
   "source": [
    "print(model.summary())"
   ]
  },
  {
   "cell_type": "code",
   "execution_count": null,
   "metadata": {
    "collapsed": true
   },
   "outputs": [],
   "source": [
    "b_size = 64\n",
    "x_train = np.concatenate([data[key]['train'][0] for key in data],axis=0)\n",
    "y_train = np.concatenate([data[key]['train'][2] for key in data],axis=0)\n",
    "x_val = unpack_news_data(np.concatenate([data[key]['val'][0] for key in data],axis=0))\n",
    "y_val = np.concatenate([data[key]['val'][2] for key in data],axis=0)\n",
    "cbs = [TensorBoard(log_dir='model_log/textual/')]\n",
    "steps = (len(x_train)+b_size-1)//b_size"
   ]
  },
  {
   "cell_type": "code",
   "execution_count": null,
   "metadata": {
    "collapsed": true
   },
   "outputs": [],
   "source": [
    "model.fit_generator(generator=data_generator(b_size,(x_train,y_train),unpack_news_data),\n",
    "                    samples_per_epoch=steps,\n",
    "                    validation_data=(x_val,y_val),\n",
    "                    callbacks = cbs,\n",
    "                    epochs=20,\n",
    "                    verbose=1,\n",
    "                   )"
   ]
  },
  {
   "cell_type": "markdown",
   "metadata": {},
   "source": [
    "# NUMERICAL MODEL"
   ]
  },
  {
   "cell_type": "code",
   "execution_count": null,
   "metadata": {
    "collapsed": true
   },
   "outputs": [],
   "source": [
    "nmodel = models.build_numerical_model()"
   ]
  },
  {
   "cell_type": "code",
   "execution_count": null,
   "metadata": {
    "collapsed": true
   },
   "outputs": [],
   "source": [
    "print(nmodel.summary())"
   ]
  },
  {
   "cell_type": "code",
   "execution_count": null,
   "metadata": {
    "collapsed": true
   },
   "outputs": [],
   "source": [
    "b_size = 64\n",
    "x_train = np.concatenate([data[key]['train'][1] for key in data],axis=0)\n",
    "y_train = np.concatenate([data[key]['train'][2] for key in data],axis=0)\n",
    "x_val = np.concatenate([data[key]['val'][1] for key in data],axis=0)\n",
    "y_val = np.concatenate([data[key]['val'][2] for key in data],axis=0)\n",
    "cbs = [TensorBoard(log_dir='model_log/numerical/')]\n",
    "steps = (len(x_train)+b_size-1)//b_size"
   ]
  },
  {
   "cell_type": "code",
   "execution_count": null,
   "metadata": {
    "collapsed": true
   },
   "outputs": [],
   "source": [
    "nmodel.fit_generator(generator=data_generator(b_size,(x_train,y_train)),\n",
    "                    samples_per_epoch=steps,\n",
    "                    validation_data=(x_val,y_val),\n",
    "                    callbacks = cbs,\n",
    "                    epochs = 20,\n",
    "                    verbose=1,\n",
    "                   )"
   ]
  },
  {
   "cell_type": "code",
   "execution_count": null,
   "metadata": {
    "collapsed": true
   },
   "outputs": [],
   "source": []
  },
  {
   "cell_type": "markdown",
   "metadata": {
    "collapsed": true
   },
   "source": [
    "# HYBRID MODEL"
   ]
  },
  {
   "cell_type": "code",
   "execution_count": 6,
   "metadata": {},
   "outputs": [
    {
     "name": "stdout",
     "output_type": "stream",
     "text": [
      "WARNING:tensorflow:From /home/beginner/anaconda3/envs/deeplearning/lib/python3.6/site-packages/tensorflow/python/framework/op_def_library.py:263: colocate_with (from tensorflow.python.framework.ops) is deprecated and will be removed in a future version.\n",
      "Instructions for updating:\n",
      "Colocations handled automatically by placer.\n",
      "WARNING:tensorflow:From /home/beginner/anaconda3/envs/deeplearning/lib/python3.6/site-packages/keras/backend/tensorflow_backend.py:3445: calling dropout (from tensorflow.python.ops.nn_ops) with keep_prob is deprecated and will be removed in a future version.\n",
      "Instructions for updating:\n",
      "Please use `rate` instead of `keep_prob`. Rate should be set to `rate = 1 - keep_prob`.\n"
     ]
    }
   ],
   "source": [
    "hmodel = models.build_hybrid_model()"
   ]
  },
  {
   "cell_type": "code",
   "execution_count": 8,
   "metadata": {
    "collapsed": true
   },
   "outputs": [],
   "source": [
    "b_size = 64\n",
    "x1_train = np.concatenate([data[key]['train'][0] for key in data],axis=0)\n",
    "x2_train = np.concatenate([data[key]['train'][1] for key in data],axis=0)\n",
    "x1_val = unpack_news_data(np.concatenate([data[key]['val'][0] for key in data],axis=0))\n",
    "x2_val = np.concatenate([data[key]['val'][1] for key in data],axis=0)\n",
    "y_val = np.concatenate([data[key]['val'][2] for key in data],axis=0)\n",
    "y_train = np.concatenate([data[key]['train'][2] for key in data],axis=0)\n",
    "cbs = [TensorBoard(log_dir='num_log/hybrid/')]\n",
    "steps = (len(x1_train)+b_size-1)//b_size"
   ]
  },
  {
   "cell_type": "code",
   "execution_count": 9,
   "metadata": {},
   "outputs": [
    {
     "name": "stdout",
     "output_type": "stream",
     "text": [
      "WARNING:tensorflow:From /home/beginner/anaconda3/envs/deeplearning/lib/python3.6/site-packages/tensorflow/python/ops/math_ops.py:3066: to_int32 (from tensorflow.python.ops.math_ops) is deprecated and will be removed in a future version.\n",
      "Instructions for updating:\n",
      "Use tf.cast instead.\n"
     ]
    },
    {
     "name": "stderr",
     "output_type": "stream",
     "text": [
      "/home/beginner/anaconda3/envs/deeplearning/lib/python3.6/site-packages/ipykernel_launcher.py:6: UserWarning: Update your `fit_generator` call to the Keras 2 API: `fit_generator(generator=<generator..., validation_data=([array([[..., callbacks=[<keras.ca..., epochs=10, verbose=1, steps_per_epoch=356)`\n",
      "  \n"
     ]
    },
    {
     "name": "stdout",
     "output_type": "stream",
     "text": [
      "WARNING:tensorflow:From /home/beginner/anaconda3/envs/deeplearning/lib/python3.6/site-packages/tensorflow/python/ops/math_grad.py:102: div (from tensorflow.python.ops.math_ops) is deprecated and will be removed in a future version.\n",
      "Instructions for updating:\n",
      "Deprecated in favor of operator or tf.math.divide.\n",
      "Epoch 1/10\n",
      "356/356 [==============================] - 79s 222ms/step - loss: 0.6900 - acc: 0.5398 - val_loss: 0.7173 - val_acc: 0.3750\n",
      "Epoch 2/10\n",
      "356/356 [==============================] - 73s 205ms/step - loss: 0.6802 - acc: 0.5642 - val_loss: 0.6958 - val_acc: 0.5375\n",
      "Epoch 3/10\n",
      "356/356 [==============================] - 73s 206ms/step - loss: 0.6577 - acc: 0.6084 - val_loss: 0.8389 - val_acc: 0.4223\n",
      "Epoch 4/10\n",
      "356/356 [==============================] - 74s 207ms/step - loss: 0.6203 - acc: 0.6526 - val_loss: 0.7298 - val_acc: 0.5554\n",
      "Epoch 5/10\n",
      "356/356 [==============================] - 73s 206ms/step - loss: 0.5598 - acc: 0.7068 - val_loss: 0.7979 - val_acc: 0.5429\n",
      "Epoch 6/10\n",
      "356/356 [==============================] - 73s 205ms/step - loss: 0.4908 - acc: 0.7583 - val_loss: 1.1770 - val_acc: 0.4366\n",
      "Epoch 7/10\n",
      "356/356 [==============================] - 74s 208ms/step - loss: 0.4427 - acc: 0.7873 - val_loss: 1.0482 - val_acc: 0.5000\n",
      "Epoch 8/10\n",
      "356/356 [==============================] - 74s 207ms/step - loss: 0.4011 - acc: 0.8085 - val_loss: 0.8354 - val_acc: 0.6071\n",
      "Epoch 9/10\n",
      "356/356 [==============================] - 74s 207ms/step - loss: 0.3739 - acc: 0.8231 - val_loss: 1.1208 - val_acc: 0.4821\n",
      "Epoch 10/10\n",
      "356/356 [==============================] - 72s 202ms/step - loss: 0.3476 - acc: 0.8396 - val_loss: 1.1476 - val_acc: 0.5232\n"
     ]
    },
    {
     "data": {
      "text/plain": [
       "<keras.callbacks.History at 0x7f813c0b49b0>"
      ]
     },
     "execution_count": 9,
     "metadata": {},
     "output_type": "execute_result"
    }
   ],
   "source": [
    "hmodel.fit_generator(generator=data_generator(b_size,(x1_train,x2_train,y_train),unpack_news_data),\n",
    "                    samples_per_epoch=steps,\n",
    "                    validation_data=([x1_val,x2_val],y_val),\n",
    "                    callbacks = cbs,\n",
    "                    epochs=10,\n",
    "                    verbose=1,\n",
    "                   )"
   ]
  },
  {
   "cell_type": "markdown",
   "metadata": {},
   "source": [
    "# Random Guess"
   ]
  },
  {
   "cell_type": "code",
   "execution_count": null,
   "metadata": {
    "collapsed": true
   },
   "outputs": [],
   "source": [
    "gmodel = models.build_guess_model()"
   ]
  },
  {
   "cell_type": "code",
   "execution_count": null,
   "metadata": {
    "collapsed": true
   },
   "outputs": [],
   "source": [
    "x_train = np.concatenate([np.random.randint(2, size=(data[key]['val'][2].shape[0],1)) for key in data])\n",
    "y_train = np.concatenate([data[key]['val'][2] for key in data])"
   ]
  },
  {
   "cell_type": "code",
   "execution_count": null,
   "metadata": {
    "collapsed": true
   },
   "outputs": [],
   "source": [
    "gmodel.fit(x=x_train,y=y_train,verbose=1,epochs=30,batch_size=32)"
   ]
  },
  {
   "cell_type": "code",
   "execution_count": null,
   "metadata": {
    "collapsed": true
   },
   "outputs": [],
   "source": []
  },
  {
   "cell_type": "code",
   "execution_count": null,
   "metadata": {
    "collapsed": true
   },
   "outputs": [],
   "source": [
    "result_dict = {}\n",
    "for code in rank[:20]:\n",
    "    result = hmodel.evaluate(x=[unpack_news_data(data[code]['test'][0]),data[code]['test'][1]],\n",
    "                             y=data[code]['test'][2],batch_size=32)\n",
    "    result_dict[code] = result[1]\n",
    "    if 'avg' not in result_dict:\n",
    "        result_dict['avg'] = 0\n",
    "    result_dict['avg'] += result[1]\n",
    "result_dict['avg'] /= 20\n",
    "print(result_dict)"
   ]
  },
  {
   "cell_type": "code",
   "execution_count": 59,
   "metadata": {
    "collapsed": true
   },
   "outputs": [],
   "source": [
    "from keras import backend as K\n",
    "K.clear_session()"
   ]
  },
  {
   "cell_type": "code",
   "execution_count": null,
   "metadata": {
    "collapsed": true
   },
   "outputs": [],
   "source": []
  }
 ],
 "metadata": {
  "kernelspec": {
   "display_name": "deeplearning",
   "language": "python",
   "name": "deeplearning"
  },
  "language_info": {
   "codemirror_mode": {
    "name": "ipython",
    "version": 3
   },
   "file_extension": ".py",
   "mimetype": "text/x-python",
   "name": "python",
   "nbconvert_exporter": "python",
   "pygments_lexer": "ipython3",
   "version": "3.6.2"
  }
 },
 "nbformat": 4,
 "nbformat_minor": 2
}
