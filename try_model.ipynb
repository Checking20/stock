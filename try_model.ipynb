{
 "cells": [
  {
   "cell_type": "code",
   "execution_count": 11,
   "metadata": {},
   "outputs": [],
   "source": [
    "from keras.callbacks import TensorBoard\n",
    "from keras.utils.vis_utils import plot_model"
   ]
  },
  {
   "cell_type": "code",
   "execution_count": 7,
   "metadata": {
    "collapsed": true
   },
   "outputs": [],
   "source": [
    "import pandas as pd\n",
    "import numpy as np\n",
    "import scipy\n",
    "import sys\n",
    "import imp"
   ]
  },
  {
   "cell_type": "code",
   "execution_count": 8,
   "metadata": {},
   "outputs": [
    {
     "data": {
      "text/plain": [
       "<module 'callbacks' from '/home/beginner/code/stock/callbacks.py'>"
      ]
     },
     "execution_count": 8,
     "metadata": {},
     "output_type": "execute_result"
    }
   ],
   "source": [
    "from process_data import load_data,get_rank_of_size\n",
    "from data_util import unpack_news_data,data_generator\n",
    "import models\n",
    "import callbacks\n",
    "imp.reload(models)\n",
    "imp.reload(callbacks)"
   ]
  },
  {
   "cell_type": "code",
   "execution_count": 4,
   "metadata": {
    "collapsed": true
   },
   "outputs": [],
   "source": [
    "rank = get_rank_of_size()\n",
    "rank.remove('XOM')\n",
    "rank.remove('GOOG')"
   ]
  },
  {
   "cell_type": "code",
   "execution_count": 5,
   "metadata": {},
   "outputs": [
    {
     "name": "stdout",
     "output_type": "stream",
     "text": [
      "1675 1156 1168\n",
      "116 62 74\n",
      "108 41 53\n",
      "data of FB is loaded\n"
     ]
    }
   ],
   "source": [
    "data = load_data(rank[:1],encoder_kind='Bert')"
   ]
  },
  {
   "cell_type": "code",
   "execution_count": null,
   "metadata": {
    "collapsed": true
   },
   "outputs": [],
   "source": [
    "dd = data_generator(b_size,(x1_train,x2_train,y_train),unpack_news_data)"
   ]
  },
  {
   "cell_type": "code",
   "execution_count": null,
   "metadata": {
    "collapsed": true
   },
   "outputs": [],
   "source": [
    "print(rank)"
   ]
  },
  {
   "cell_type": "code",
   "execution_count": null,
   "metadata": {
    "collapsed": true
   },
   "outputs": [],
   "source": [
    "# sparse matrix\n",
    "data[rank[0]]['train'][0][0][0].toarray().shape"
   ]
  },
  {
   "cell_type": "markdown",
   "metadata": {},
   "source": [
    "# TEXTUAL MODEL"
   ]
  },
  {
   "cell_type": "code",
   "execution_count": 9,
   "metadata": {},
   "outputs": [
    {
     "name": "stdout",
     "output_type": "stream",
     "text": [
      "WARNING:tensorflow:From /home/beginner/anaconda3/envs/deeplearning/lib/python3.6/site-packages/tensorflow/python/framework/op_def_library.py:263: colocate_with (from tensorflow.python.framework.ops) is deprecated and will be removed in a future version.\n",
      "Instructions for updating:\n",
      "Colocations handled automatically by placer.\n"
     ]
    }
   ],
   "source": [
    "model = models.build_textual_model()"
   ]
  },
  {
   "cell_type": "code",
   "execution_count": 13,
   "metadata": {},
   "outputs": [
    {
     "name": "stdout",
     "output_type": "stream",
     "text": [
      "_________________________________________________________________\n",
      "Layer (type)                 Output Shape              Param #   \n",
      "=================================================================\n",
      "input_1 (InputLayer)         (None, 7, 50, 768)        0         \n",
      "_________________________________________________________________\n",
      "time_distributed_1 (TimeDist (None, 7, 50, 768)        0         \n",
      "_________________________________________________________________\n",
      "time_distributed_2 (TimeDist (None, 7, 768)            7700      \n",
      "_________________________________________________________________\n",
      "time_distributed_3 (TimeDist (None, 7, 100)            76900     \n",
      "_________________________________________________________________\n",
      "bidirectional_1 (Bidirection (None, 7, 100)            45300     \n",
      "_________________________________________________________________\n",
      "attention_layer_2 (Attention (None, 100)               1020      \n",
      "_________________________________________________________________\n",
      "dense_2 (Dense)              (None, 10)                1010      \n",
      "_________________________________________________________________\n",
      "dense_3 (Dense)              (None, 2)                 22        \n",
      "=================================================================\n",
      "Total params: 131,952\n",
      "Trainable params: 131,952\n",
      "Non-trainable params: 0\n",
      "_________________________________________________________________\n",
      "None\n"
     ]
    }
   ],
   "source": [
    "print(model.summary())\n",
    "plot_model(model, to_file='tmodel.png',show_shapes=True)"
   ]
  },
  {
   "cell_type": "code",
   "execution_count": null,
   "metadata": {
    "collapsed": true
   },
   "outputs": [],
   "source": [
    "b_size = 64\n",
    "x_train = np.concatenate([data[key]['train'][0] for key in data],axis=0)\n",
    "y_train = np.concatenate([data[key]['train'][2] for key in data],axis=0)\n",
    "x_val = unpack_news_data(np.concatenate([data[key]['val'][0] for key in data],axis=0))\n",
    "y_val = np.concatenate([data[key]['val'][2] for key in data],axis=0)\n",
    "cbs = [TensorBoard(log_dir='model_log/textual/')]\n",
    "steps = (len(x_train)+b_size-1)//b_size"
   ]
  },
  {
   "cell_type": "code",
   "execution_count": null,
   "metadata": {
    "collapsed": true
   },
   "outputs": [],
   "source": [
    "model.fit_generator(generator=data_generator(b_size,(x_train,y_train),unpack_news_data),\n",
    "                    samples_per_epoch=steps,\n",
    "                    validation_data=(x_val,y_val),\n",
    "                    callbacks = cbs,\n",
    "                    epochs=20,\n",
    "                    verbose=1,\n",
    "                   )"
   ]
  },
  {
   "cell_type": "markdown",
   "metadata": {},
   "source": [
    "# NUMERICAL MODEL"
   ]
  },
  {
   "cell_type": "code",
   "execution_count": 20,
   "metadata": {},
   "outputs": [],
   "source": [
    "nmodel = models.build_numerical_model()"
   ]
  },
  {
   "cell_type": "code",
   "execution_count": 21,
   "metadata": {},
   "outputs": [
    {
     "name": "stdout",
     "output_type": "stream",
     "text": [
      "_________________________________________________________________\n",
      "Layer (type)                 Output Shape              Param #   \n",
      "=================================================================\n",
      "input_1 (InputLayer)         (None, 20, 5)             0         \n",
      "_________________________________________________________________\n",
      "gru_1 (GRU)                  (None, 20, 100)           31800     \n",
      "_________________________________________________________________\n",
      "dropout_1 (Dropout)          (None, 20, 100)           0         \n",
      "_________________________________________________________________\n",
      "gru_2 (GRU)                  (None, 100)               60300     \n",
      "_________________________________________________________________\n",
      "dropout_2 (Dropout)          (None, 100)               0         \n",
      "_________________________________________________________________\n",
      "dense_1 (Dense)              (None, 10)                1010      \n",
      "_________________________________________________________________\n",
      "dense_2 (Dense)              (None, 2)                 22        \n",
      "=================================================================\n",
      "Total params: 93,132\n",
      "Trainable params: 93,132\n",
      "Non-trainable params: 0\n",
      "_________________________________________________________________\n",
      "None\n"
     ]
    }
   ],
   "source": [
    "print(nmodel.summary())\n",
    "plot_model(nmodel, to_file='nmodel.png',show_shapes=True)"
   ]
  },
  {
   "cell_type": "code",
   "execution_count": null,
   "metadata": {
    "collapsed": true
   },
   "outputs": [],
   "source": [
    "b_size = 64\n",
    "x_train = np.concatenate([data[key]['train'][1] for key in data],axis=0)\n",
    "y_train = np.concatenate([data[key]['train'][2] for key in data],axis=0)\n",
    "x_val = np.concatenate([data[key]['val'][1] for key in data],axis=0)\n",
    "y_val = np.concatenate([data[key]['val'][2] for key in data],axis=0)\n",
    "cbs = [TensorBoard(log_dir='model_log/numerical/')]\n",
    "steps = (len(x_train)+b_size-1)//b_size"
   ]
  },
  {
   "cell_type": "code",
   "execution_count": null,
   "metadata": {
    "collapsed": true
   },
   "outputs": [],
   "source": [
    "nmodel.fit_generator(generator=data_generator(b_size,(x_train,y_train)),\n",
    "                    samples_per_epoch=steps,\n",
    "                    validation_data=(x_val,y_val),\n",
    "                    callbacks = cbs,\n",
    "                    epochs = 20,\n",
    "                    verbose=1,\n",
    "                   )"
   ]
  },
  {
   "cell_type": "code",
   "execution_count": null,
   "metadata": {
    "collapsed": true
   },
   "outputs": [],
   "source": []
  },
  {
   "cell_type": "markdown",
   "metadata": {
    "collapsed": true
   },
   "source": [
    "# HYBRID MODEL"
   ]
  },
  {
   "cell_type": "code",
   "execution_count": 31,
   "metadata": {
    "collapsed": true
   },
   "outputs": [],
   "source": [
    "hmodel = models.build_hybrid_model()"
   ]
  },
  {
   "cell_type": "code",
   "execution_count": 32,
   "metadata": {},
   "outputs": [
    {
     "name": "stdout",
     "output_type": "stream",
     "text": [
      "__________________________________________________________________________________________________\n",
      "Layer (type)                    Output Shape         Param #     Connected to                     \n",
      "==================================================================================================\n",
      "input_2 (InputLayer)            (None, 7, 50, 768)   0                                            \n",
      "__________________________________________________________________________________________________\n",
      "time_distributed_1 (TimeDistrib (None, 7, 50, 768)   0           input_2[0][0]                    \n",
      "__________________________________________________________________________________________________\n",
      "input_1 (InputLayer)            (None, 20, 5)        0                                            \n",
      "__________________________________________________________________________________________________\n",
      "time_distributed_2 (TimeDistrib (None, 7, 768)       7700        time_distributed_1[0][0]         \n",
      "__________________________________________________________________________________________________\n",
      "gru_2 (GRU)                     (None, 20, 100)      31800       input_1[0][0]                    \n",
      "__________________________________________________________________________________________________\n",
      "time_distributed_3 (TimeDistrib (None, 7, 100)       76900       time_distributed_2[0][0]         \n",
      "__________________________________________________________________________________________________\n",
      "dropout_1 (Dropout)             (None, 20, 100)      0           gru_2[0][0]                      \n",
      "__________________________________________________________________________________________________\n",
      "bidirectional_1 (Bidirectional) (None, 7, 100)       45300       time_distributed_3[0][0]         \n",
      "__________________________________________________________________________________________________\n",
      "gru_3 (GRU)                     (None, 100)          60300       dropout_1[0][0]                  \n",
      "__________________________________________________________________________________________________\n",
      "attention_layer_2 (AttentionLay (None, 100)          1020        bidirectional_1[0][0]            \n",
      "__________________________________________________________________________________________________\n",
      "dropout_2 (Dropout)             (None, 100)          0           gru_3[0][0]                      \n",
      "__________________________________________________________________________________________________\n",
      "dense_2 (Dense)                 (None, 10)           1010        attention_layer_2[0][0]          \n",
      "__________________________________________________________________________________________________\n",
      "dense_3 (Dense)                 (None, 10)           1010        dropout_2[0][0]                  \n",
      "__________________________________________________________________________________________________\n",
      "concatenate_1 (Concatenate)     (None, 20)           0           dense_2[0][0]                    \n",
      "                                                                 dense_3[0][0]                    \n",
      "__________________________________________________________________________________________________\n",
      "dense_4 (Dense)                 (None, 2)            42          concatenate_1[0][0]              \n",
      "==================================================================================================\n",
      "Total params: 225,082\n",
      "Trainable params: 225,082\n",
      "Non-trainable params: 0\n",
      "__________________________________________________________________________________________________\n",
      "None\n"
     ]
    }
   ],
   "source": [
    "print(hmodel.summary())\n",
    "plot_model(hmodel, to_file='hmodel.png',show_shapes=True)"
   ]
  },
  {
   "cell_type": "code",
   "execution_count": null,
   "metadata": {
    "collapsed": true
   },
   "outputs": [],
   "source": [
    "b_size = 64\n",
    "x1_train = np.concatenate([data[key]['train'][0] for key in data],axis=0)\n",
    "x2_train = np.concatenate([data[key]['train'][1] for key in data],axis=0)\n",
    "x1_val = unpack_news_data(np.concatenate([data[key]['val'][0] for key in data],axis=0))\n",
    "x2_val = np.concatenate([data[key]['val'][1] for key in data],axis=0)\n",
    "y_val = np.concatenate([data[key]['val'][2] for key in data],axis=0)\n",
    "y_train = np.concatenate([data[key]['train'][2] for key in data],axis=0)\n",
    "cbs = [TensorBoard(log_dir='num_log/hybrid/')]\n",
    "steps = (len(x1_train)+b_size-1)//b_size"
   ]
  },
  {
   "cell_type": "code",
   "execution_count": null,
   "metadata": {
    "collapsed": true
   },
   "outputs": [],
   "source": [
    "hmodel.fit_generator(generator=data_generator(b_size,(x1_train,x2_train,y_train),unpack_news_data),\n",
    "                    samples_per_epoch=steps,\n",
    "                    validation_data=([x1_val,x2_val],y_val),\n",
    "                    callbacks = cbs,\n",
    "                    epochs=10,\n",
    "                    verbose=1,\n",
    "                   )"
   ]
  },
  {
   "cell_type": "markdown",
   "metadata": {},
   "source": [
    "# Random Guess"
   ]
  },
  {
   "cell_type": "code",
   "execution_count": 23,
   "metadata": {
    "collapsed": true
   },
   "outputs": [],
   "source": [
    "gmodel = models.build_guess_model()"
   ]
  },
  {
   "cell_type": "code",
   "execution_count": 24,
   "metadata": {
    "collapsed": true
   },
   "outputs": [],
   "source": [
    "x_train = np.concatenate([np.random.randint(2, size=(data[key]['val'][2].shape[0],1)) for key in data])\n",
    "y_train = np.concatenate([data[key]['val'][2] for key in data])"
   ]
  },
  {
   "cell_type": "code",
   "execution_count": null,
   "metadata": {
    "collapsed": true
   },
   "outputs": [],
   "source": [
    "gmodel.fit(x=x_train,y=y_train,verbose=1,epochs=30,batch_size=32)"
   ]
  },
  {
   "cell_type": "code",
   "execution_count": 25,
   "metadata": {},
   "outputs": [
    {
     "name": "stdout",
     "output_type": "stream",
     "text": [
      "_________________________________________________________________\n",
      "Layer (type)                 Output Shape              Param #   \n",
      "=================================================================\n",
      "input_1 (InputLayer)         (None, 1)                 0         \n",
      "_________________________________________________________________\n",
      "random_guess_1 (RandomGuess) (None, 2)                 0         \n",
      "=================================================================\n",
      "Total params: 0\n",
      "Trainable params: 0\n",
      "Non-trainable params: 0\n",
      "_________________________________________________________________\n",
      "None\n"
     ]
    }
   ],
   "source": []
  },
  {
   "cell_type": "code",
   "execution_count": null,
   "metadata": {
    "collapsed": true
   },
   "outputs": [],
   "source": [
    "result_dict = {}\n",
    "for code in rank[:20]:\n",
    "    result = hmodel.evaluate(x=[unpack_news_data(data[code]['test'][0]),data[code]['test'][1]],\n",
    "                             y=data[code]['test'][2],batch_size=32)\n",
    "    result_dict[code] = result[1]\n",
    "    if 'avg' not in result_dict:\n",
    "        result_dict['avg'] = 0\n",
    "    result_dict['avg'] += result[1]\n",
    "result_dict['avg'] /= 20\n",
    "print(result_dict)"
   ]
  },
  {
   "cell_type": "code",
   "execution_count": 33,
   "metadata": {
    "collapsed": true
   },
   "outputs": [],
   "source": [
    "from keras import backend as K\n",
    "K.clear_session()"
   ]
  },
  {
   "cell_type": "code",
   "execution_count": null,
   "metadata": {
    "collapsed": true
   },
   "outputs": [],
   "source": []
  }
 ],
 "metadata": {
  "kernelspec": {
   "display_name": "deeplearning",
   "language": "python",
   "name": "deeplearning"
  },
  "language_info": {
   "codemirror_mode": {
    "name": "ipython",
    "version": 3
   },
   "file_extension": ".py",
   "mimetype": "text/x-python",
   "name": "python",
   "nbconvert_exporter": "python",
   "pygments_lexer": "ipython3",
   "version": "3.6.2"
  }
 },
 "nbformat": 4,
 "nbformat_minor": 2
}
