{
 "cells": [
  {
   "cell_type": "code",
   "execution_count": 1,
   "metadata": {},
   "outputs": [
    {
     "name": "stderr",
     "output_type": "stream",
     "text": [
      "Using TensorFlow backend.\n"
     ]
    }
   ],
   "source": [
    "from keras.preprocessing.text import Tokenizer\n",
    "from keras.preprocessing.sequence import pad_sequences\n",
    "from keras.layers import Dense, Input, LSTM, Embedding, Activation, GRU\n",
    "from keras.layers import Dropout, SpatialDropout1D\n",
    "from keras.layers import Bidirectional,TimeDistributed, concatenate\n",
    "from keras.layers import GlobalMaxPool1D, GlobalAvgPool1D, Masking\n",
    "from keras.models import Model,Sequential\n",
    "from keras import initializers, regularizers, constraints, optimizers, layers\n",
    "from keras import backend as K\n",
    "from keras.callbacks import TensorBoard\n",
    "from keras import metrics"
   ]
  },
  {
   "cell_type": "code",
   "execution_count": 2,
   "metadata": {
    "collapsed": true
   },
   "outputs": [],
   "source": [
    "import pandas as pd\n",
    "import numpy as np\n",
    "import scipy\n",
    "import sys"
   ]
  },
  {
   "cell_type": "code",
   "execution_count": 4,
   "metadata": {
    "collapsed": true
   },
   "outputs": [],
   "source": [
    "from process_data import load_data,get_rank_of_size\n",
    "from layers import AttentionLayer,MyMeanPool\n",
    "from data_util import unpack_news_data,DATE_INTERVAL_NEWS,MAX_NEWS_NUM,EMBEDDING_SIZE"
   ]
  },
  {
   "cell_type": "code",
   "execution_count": 5,
   "metadata": {
    "collapsed": true
   },
   "outputs": [],
   "source": [
    "rank = get_rank_of_size()"
   ]
  },
  {
   "cell_type": "code",
   "execution_count": 6,
   "metadata": {},
   "outputs": [
    {
     "name": "stdout",
     "output_type": "stream",
     "text": [
      "data of FB is loaded\n"
     ]
    }
   ],
   "source": [
    "data = load_data(rank[:1])"
   ]
  },
  {
   "cell_type": "code",
   "execution_count": 7,
   "metadata": {},
   "outputs": [
    {
     "data": {
      "text/plain": [
       "(50, 768)"
      ]
     },
     "execution_count": 7,
     "metadata": {},
     "output_type": "execute_result"
    }
   ],
   "source": [
    "data[rank[0]]['train'][0][0][0].toarray().shape"
   ]
  },
  {
   "cell_type": "markdown",
   "metadata": {},
   "source": [
    "# model"
   ]
  },
  {
   "cell_type": "code",
   "execution_count": 14,
   "metadata": {},
   "outputs": [],
   "source": [
    "from keras.callbacks import Callback\n",
    "from sklearn.metrics import f1_score, precision_score, recall_score\n",
    "\n",
    "class Metrics(Callback):\n",
    "    def on_train_begin(self, logs={}):\n",
    "        self.val_f1s = []\n",
    "        self.val_recalls = []\n",
    "        self.val_precisions = []\n",
    "\n",
    "    def on_epoch_end(self, epoch, logs={}):\n",
    "        val_predict = np.argmax(np.asarray(self.model.predict(self.validation_data[0])), axis=1)\n",
    "        val_targ = np.argmax(self.validation_data[1], axis=1)\n",
    "        _val_f1 = f1_score(val_targ, val_predict, average='macro')\n",
    "        self.val_f1s.append(_val_f1)\n",
    "        print(' — val_f1:' ,_val_f1)\n",
    "        return"
   ]
  },
  {
   "cell_type": "code",
   "execution_count": 8,
   "metadata": {
    "collapsed": true
   },
   "outputs": [],
   "source": [
    "def build_model(code='Default'):\n",
    "    news_input = Input(shape=(DATE_INTERVAL_NEWS,MAX_NEWS_NUM,EMBEDDING_SIZE))    \n",
    "    \n",
    "    x = news_input\n",
    "    x = TimeDistributed(Masking(mask_value=0.))(x)\n",
    "    x = TimeDistributed(AttentionLayer())(x)\n",
    "    x = TimeDistributed(Dropout(0.4))(x)\n",
    "    \n",
    "    x = GRU(100,return_sequences=True)(x)\n",
    "    x = AttentionLayer()(x)\n",
    "    x = Dropout(0.4)(x)\n",
    "    \n",
    "    x = Dense(2, activation='softmax')(x)\n",
    "    model = Model(inputs=news_input,outputs=x)\n",
    "    model.compile(loss='categorical_crossentropy', optimizer='adam',metrics=['accuracy'])\n",
    "    return model"
   ]
  },
  {
   "cell_type": "code",
   "execution_count": 15,
   "metadata": {},
   "outputs": [],
   "source": [
    "model = build_model()"
   ]
  },
  {
   "cell_type": "code",
   "execution_count": 16,
   "metadata": {},
   "outputs": [
    {
     "name": "stdout",
     "output_type": "stream",
     "text": [
      "_________________________________________________________________\n",
      "Layer (type)                 Output Shape              Param #   \n",
      "=================================================================\n",
      "input_2 (InputLayer)         (None, 7, 50, 768)        0         \n",
      "_________________________________________________________________\n",
      "time_distributed_4 (TimeDist (None, 7, 50, 768)        0         \n",
      "_________________________________________________________________\n",
      "time_distributed_5 (TimeDist (None, 7, 768)            7700      \n",
      "_________________________________________________________________\n",
      "time_distributed_6 (TimeDist (None, 7, 768)            0         \n",
      "_________________________________________________________________\n",
      "gru_2 (GRU)                  (None, 7, 100)            260700    \n",
      "_________________________________________________________________\n",
      "attention_layer_4 (Attention (None, 100)               1020      \n",
      "_________________________________________________________________\n",
      "dropout_4 (Dropout)          (None, 100)               0         \n",
      "_________________________________________________________________\n",
      "dense_2 (Dense)              (None, 2)                 202       \n",
      "=================================================================\n",
      "Total params: 269,622\n",
      "Trainable params: 269,622\n",
      "Non-trainable params: 0\n",
      "_________________________________________________________________\n",
      "None\n"
     ]
    }
   ],
   "source": [
    "print(model.summary())"
   ]
  },
  {
   "cell_type": "code",
   "execution_count": 17,
   "metadata": {},
   "outputs": [
    {
     "name": "stdout",
     "output_type": "stream",
     "text": [
      "Train on 1150 samples, validate on 56 samples\n",
      "Epoch 1/10\n",
      "1150/1150 [==============================] - 5s 5ms/step - loss: 0.7690 - acc: 0.5452 - val_loss: 0.7237 - val_acc: 0.4107\n",
      " — val_f1: 0.2911392405063291\n",
      "Epoch 2/10\n",
      "  64/1150 [>.............................] - ETA: 3s - loss: 0.7338 - acc: 0.5000"
     ]
    },
    {
     "name": "stderr",
     "output_type": "stream",
     "text": [
      "/home/beginner/anaconda3/envs/deeplearning/lib/python3.6/site-packages/sklearn/metrics/classification.py:1135: UndefinedMetricWarning: F-score is ill-defined and being set to 0.0 in labels with no predicted samples.\n",
      "  'precision', 'predicted', average, warn_for)\n"
     ]
    },
    {
     "name": "stdout",
     "output_type": "stream",
     "text": [
      "1150/1150 [==============================] - 4s 3ms/step - loss: 0.6886 - acc: 0.5739 - val_loss: 0.9013 - val_acc: 0.4107\n",
      " — val_f1: 0.2911392405063291\n",
      "Epoch 3/10\n",
      "1150/1150 [==============================] - 3s 3ms/step - loss: 0.6732 - acc: 0.6061 - val_loss: 0.8122 - val_acc: 0.4107\n",
      " — val_f1: 0.2911392405063291\n",
      "Epoch 4/10\n",
      "1150/1150 [==============================] - 4s 3ms/step - loss: 0.6514 - acc: 0.6296 - val_loss: 0.6888 - val_acc: 0.5179\n",
      " — val_f1: 0.48059086224665065\n",
      "Epoch 5/10\n",
      "1150/1150 [==============================] - 4s 3ms/step - loss: 0.6370 - acc: 0.6391 - val_loss: 0.8369 - val_acc: 0.4107\n",
      " — val_f1: 0.2911392405063291\n",
      "Epoch 6/10\n",
      "1150/1150 [==============================] - 4s 3ms/step - loss: 0.6201 - acc: 0.6574 - val_loss: 0.7623 - val_acc: 0.4643\n",
      " — val_f1: 0.38596491228070173\n",
      "Epoch 7/10\n",
      "1150/1150 [==============================] - 4s 3ms/step - loss: 0.6027 - acc: 0.6783 - val_loss: 0.9034 - val_acc: 0.4286\n",
      " — val_f1: 0.3242835595776772\n",
      "Epoch 8/10\n",
      "1150/1150 [==============================] - 3s 3ms/step - loss: 0.5805 - acc: 0.6948 - val_loss: 0.7548 - val_acc: 0.4821\n",
      " — val_f1: 0.41477477477477476\n",
      "Epoch 9/10\n",
      "1150/1150 [==============================] - 3s 3ms/step - loss: 0.5492 - acc: 0.7374 - val_loss: 0.8422 - val_acc: 0.4821\n",
      " — val_f1: 0.41477477477477476\n",
      "Epoch 10/10\n",
      "1150/1150 [==============================] - 3s 3ms/step - loss: 0.5209 - acc: 0.7522 - val_loss: 1.2539 - val_acc: 0.4286\n",
      " — val_f1: 0.3242835595776772\n"
     ]
    }
   ],
   "source": [
    "for i in range(1):\n",
    "    model.fit(x=unpack_news_data(data[rank[i]]['train'][0]),y=data[rank[i]]['train'][2],\n",
    "            batch_size=64,epochs=10,verbose=1,\n",
    "            validation_data=(unpack_news_data(data[rank[i]]['val'][0]),data[rank[i]]['val'][2]),\n",
    "            callbacks=[TensorBoard(log_dir='model_log/'),Metrics()])"
   ]
  },
  {
   "cell_type": "code",
   "execution_count": null,
   "metadata": {
    "collapsed": true
   },
   "outputs": [],
   "source": [
    "model.evaluate(x=unpack_news_data(data[rank[0]]['val'][0]), y=data[rank[0]]['val'][2],batch_size=64)"
   ]
  },
  {
   "cell_type": "markdown",
   "metadata": {},
   "source": [
    "# NUMERICAL MODEL"
   ]
  },
  {
   "cell_type": "code",
   "execution_count": null,
   "metadata": {
    "collapsed": true
   },
   "outputs": [],
   "source": [
    "numerical_timestep = 20 #  correspond to the 'size' of  the window\n",
    "attribute_num = 5 # Open/High/Low/AdjClose/Volume \n",
    "\n",
    "def build_numerical_model(code='Default'):\n",
    "    numerical_input = Input(shape=(numerical_timestep,attribute_num))\n",
    "    x = GRU(50,return_sequences=True)(numerical_input)\n",
    "    x = Dropout(0.5)(x)\n",
    "    x = GRU(50)(x)\n",
    "    x = Dropout(0.5)(x)\n",
    "    x = Dense(10)(x)\n",
    "    x = Dense(2,activation='softmax')(x)\n",
    "    model = Model(inputs=numerical_input,outputs=x)\n",
    "    model.compile(loss='categorical_crossentropy',optimizer='adam',metrics=['accuracy'])\n",
    "    return model"
   ]
  },
  {
   "cell_type": "code",
   "execution_count": null,
   "metadata": {
    "collapsed": true
   },
   "outputs": [],
   "source": [
    "nmodel = build_numerical_model()"
   ]
  },
  {
   "cell_type": "code",
   "execution_count": null,
   "metadata": {
    "collapsed": true
   },
   "outputs": [],
   "source": [
    "print(nmodel.summary())"
   ]
  },
  {
   "cell_type": "code",
   "execution_count": null,
   "metadata": {
    "collapsed": true
   },
   "outputs": [],
   "source": [
    "nmodel.fit(x=data[rank[0]]['train'][1],y=data[rank[0]]['train'][2],batch_size=16,epochs=100,verbose=2,\\\n",
    "          validation_data=(data[rank[0]]['val'][1],data[rank[0]]['val'][2]),\\\n",
    "          callbacks=[TensorBoard(log_dir='num_log/')])"
   ]
  },
  {
   "cell_type": "code",
   "execution_count": null,
   "metadata": {
    "collapsed": true
   },
   "outputs": [],
   "source": []
  },
  {
   "cell_type": "code",
   "execution_count": null,
   "metadata": {
    "collapsed": true
   },
   "outputs": [],
   "source": []
  }
 ],
 "metadata": {
  "kernelspec": {
   "display_name": "deeplearning",
   "language": "python",
   "name": "deeplearning"
  },
  "language_info": {
   "codemirror_mode": {
    "name": "ipython",
    "version": 3
   },
   "file_extension": ".py",
   "mimetype": "text/x-python",
   "name": "python",
   "nbconvert_exporter": "python",
   "pygments_lexer": "ipython3",
   "version": "3.6.2"
  }
 },
 "nbformat": 4,
 "nbformat_minor": 2
}
