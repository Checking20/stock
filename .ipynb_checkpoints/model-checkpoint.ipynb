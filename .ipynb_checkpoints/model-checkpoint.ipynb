{
 "cells": [
  {
   "cell_type": "code",
   "execution_count": null,
   "metadata": {},
   "outputs": [],
   "source": [
    "# import useful lib\n",
    "import sys, os, re, csv, codecs\n",
    "import json\n",
    "import math\n",
    "import datetime\n",
    "import numpy as np\n",
    "import pandas as pd\n",
    "from sklearn.preprocessing import MinMaxScaler\n",
    "\n",
    "# import lib to clear the news\n",
    "from nltk.tokenize import word_tokenize\n",
    "from nltk.stem import WordNetLemmatizer\n",
    "\n",
    "# import keras\n",
    "from keras.preprocessing.text import Tokenizer\n",
    "from keras.preprocessing.sequence import pad_sequences\n",
    "from keras.layers import Dense, Input, LSTM, Embedding, Dropout, Activation, GRU\n",
    "from keras.layers import Bidirectional, GlobalMaxPool1D, TimeDistributed,concatenate\n",
    "from keras.models import Model\n",
    "from keras import initializers, regularizers, constraints, optimizers, layers"
   ]
  },
  {
   "cell_type": "code",
   "execution_count": null,
   "metadata": {
    "collapsed": true
   },
   "outputs": [],
   "source": [
    "# 价格数据\n",
    "PRICES_DATA = 'data/stockPrices_raw.json'\n",
    "# 词向量文件\n",
    "EMB_FILE = \"GloVe/glove.42B.300d.txt\"\n",
    "# 新闻文件\n",
    "NEWS_FILE = \"data/tp.csv\""
   ]
  },
  {
   "cell_type": "code",
   "execution_count": null,
   "metadata": {
    "collapsed": true
   },
   "outputs": [],
   "source": [
    "# 词向量维度\n",
    "emb_size = 300\n",
    "# 最大词特征（多少个词）\n",
    "max_features = 20000\n",
    "# 新闻最大长度\n",
    "maxlen = 30\n",
    "# 新闻时间步\n",
    "news_timestep = 7\n",
    "# 数值信息时间步\n",
    "prices_timestep = 20\n",
    "# 划分时间点\n",
    "div_date = '20180101'\n",
    "bound_date = '20181201'"
   ]
  },
  {
   "cell_type": "code",
   "execution_count": null,
   "metadata": {
    "collapsed": true
   },
   "outputs": [],
   "source": [
    "# 读取数据(pandas.dataframe)\n",
    "news = pd.read_csv(NEWS_FILE)\n",
    "# 读取价格数据(dict)\n",
    "prices = None\n",
    "with open(PRICES_DATA,'r') as file:\n",
    "    prices = json.load(file)"
   ]
  },
  {
   "cell_type": "code",
   "execution_count": null,
   "metadata": {
    "collapsed": true
   },
   "outputs": [],
   "source": [
    "# 清洗数据(词性还原)\n",
    "def clean_news(news_raws):\n",
    "    lemma=WordNetLemmatizer()\n",
    "    news_rows=[]\n",
    "    for i in range(0,len(news_raws)):\n",
    "        news=str(news_raws[i])\n",
    "        news=[lemma.lemmatize(w) for w in word_tokenize(str(news).lower())]  # 词性还原\n",
    "        news=' '.join(news)\n",
    "        news_rows.append(news)\n",
    "    return news_rows"
   ]
  },
  {
   "cell_type": "code",
   "execution_count": null,
   "metadata": {
    "collapsed": true
   },
   "outputs": [],
   "source": [
    "# 按照代码划分新闻数据\n",
    "news_dict = dict()\n",
    "codes =  news['code'].drop_duplicates() # 得到股票代码\n",
    "for code in codes:\n",
    "    code_news= news.loc[news['code']==code].copy(deep=True)\n",
    "    code_news.reset_index(drop=True,inplace=True)\n",
    "    code_news['news'] = code_news['headline'] # !更多的文本利用\n",
    "    code_news['news'] = clean_news(code_news['news'])\n",
    "    news_dict[code] = pd.DataFrame({'date':code_news['date'],'news':code_news['news']})"
   ]
  },
  {
   "cell_type": "code",
   "execution_count": null,
   "metadata": {},
   "outputs": [],
   "source": [
    "# 训练新闻文本数据（用于训练tokenizer）\n",
    "text_train = news['headline'].loc[news['date']<int(div_date)]\n",
    "text_train.reset_index(drop=True,inplace=True)\n",
    "text_train = clean_news(text_train)\n",
    "# 训练tokenizer（得到word2idx）\n",
    "tokenizer = Tokenizer(num_words=max_features)\n",
    "tokenizer.fit_on_texts(list(text_train))\n",
    "print('the number of different words:',len(tokenizer.word_index))"
   ]
  },
  {
   "cell_type": "code",
   "execution_count": null,
   "metadata": {
    "collapsed": true
   },
   "outputs": [],
   "source": [
    "# 格式转化（dataframe->dict）\n",
    "date_news_dict=dict()\n",
    "for code in codes:\n",
    "    token_train = tokenizer.texts_to_sequences(news_dict[code]['news'])\n",
    "    seqs = pad_sequences(token_train,maxlen=maxlen,truncating='post')\n",
    "    dates = news_dict[code]['date']\n",
    "    date_news_dict[code]=dict()\n",
    "    for i in range(len(seqs)):\n",
    "        date_news_dict[code][dates[i]]=seqs[i]\n",
    "news_dict = date_news_dict"
   ]
  },
  {
   "cell_type": "code",
   "execution_count": null,
   "metadata": {
    "collapsed": true
   },
   "outputs": [],
   "source": [
    "# 新闻的滑动窗口生成器\n",
    "def news_window_shift(f_date,t_date,time_dict_data,window_size):\n",
    "    # 左闭右开\n",
    "    mindate = datetime.datetime.strptime(f_date,\"%Y%m%d\")\n",
    "    maxdate = datetime.datetime.strptime(t_date,\"%Y%m%d\")-datetime.timedelta(days=1)\n",
    "    it = mindate\n",
    "    window_dict = dict()\n",
    "    while(it<=maxdate):\n",
    "        today = it.strftime(\"%Y%m%d\")\n",
    "        window_dict[today]=list()\n",
    "        for i in range(window_size):\n",
    "            bf = it - datetime.timedelta(days=window_size-1-i)\n",
    "            bf = int(bf.strftime(\"%Y%m%d\"))\n",
    "            if int(bf) in time_dict_data:\n",
    "                window_dict[today].append(time_dict_data[bf])\n",
    "            else:\n",
    "                window_dict[today].append(np.zeros(maxlen))      \n",
    "        it += datetime.timedelta(days=1)\n",
    "    return window_dict"
   ]
  },
  {
   "cell_type": "code",
   "execution_count": null,
   "metadata": {
    "collapsed": true
   },
   "outputs": [],
   "source": [
    "# 对数据框内的数值进行归一化\n",
    "def normalization(data_list):\n",
    "    scaler = MinMaxScaler(copy=True, feature_range=(0, 1))\n",
    "    values = np.array([item[1] for item in data_list])\n",
    "    values = values.reshape(-1,1)\n",
    "    scaler.fit(values)\n",
    "    transformed_values = scaler.transform(values)\n",
    "    transformed_data_list = []\n",
    "    for i in range(len(data_list)):\n",
    "        transformed_data_list.append((data_list[i][0],transformed_values[i][0]))\n",
    "    return transformed_data_list\n",
    "\n",
    "# 价格的滑动窗口生层器(内层)\n",
    "def _price_window_shift(f_date,t_date,time_dict_data,window_size):\n",
    "    data = [item for item in time_dict_data.items()]\n",
    "    mindate = datetime.datetime.strptime(f_date,\"%Y%m%d\")\n",
    "    maxdate = datetime.datetime.strptime(t_date,\"%Y%m%d\")-datetime.timedelta(days=1)\n",
    "    windows_dict = dict()\n",
    "    # ! 可以进一步数据清洗\n",
    "    for i in range(len(data)):\n",
    "        cr_date = datetime.datetime.strptime(data[i][0],\"%Y-%m-%d\")\n",
    "        if cr_date < mindate:\n",
    "            continue\n",
    "        if cr_date > maxdate:\n",
    "            break\n",
    "        if i >= window_size-1:\n",
    "            windows_dict[cr_date.strftime(\"%Y%m%d\")] = normalization(data[i+1-window_size:i+1])\n",
    "    return windows_dict\n",
    "\n",
    "# 合并数值数据\n",
    "def combine_data(tup):\n",
    "    data_dict = dict()\n",
    "    tp = tuple(tup)\n",
    "    num = len(tp)\n",
    "    for key in tp[0].keys():\n",
    "        data_dict[key] = list()\n",
    "        window_size = len((tp[0])[key])\n",
    "        for i in range(window_size):\n",
    "            cur_tuple = list()\n",
    "            for j in range(num):\n",
    "                cur_tuple.append(((tp[j])[key])[i][1])\n",
    "            cur_tuple = tuple(cur_tuple)\n",
    "            data_dict[key].append(cur_tuple)\n",
    "    return data_dict\n",
    "\n",
    "# 价格的滑动窗口生层器(表层)\n",
    "def prices_window_shift(f_date,t_date,time_dict_data,window_size):\n",
    "    open_dict = _price_window_shift(f_date,t_date,time_dict_data['open'],window_size)\n",
    "    vol_dict = _price_window_shift(f_date,t_date,time_dict_data['volume'],window_size)\n",
    "    prices_dict = combine_data((open_dict,vol_dict))\n",
    "    return prices_dict"
   ]
  },
  {
   "cell_type": "code",
   "execution_count": null,
   "metadata": {
    "collapsed": true
   },
   "outputs": [],
   "source": [
    "def get_train_XY(pv,news,raw_data):\n",
    "    Y_list = list()\n",
    "    X_list_p = list()\n",
    "    X_list_n = list()\n",
    "    data = [item for item in raw_data['open'].items()]\n",
    "    num = len(data)\n",
    "    for i in range(num):\n",
    "        date = datetime.datetime.strptime(data[i][0],\"%Y-%m-%d\").strftime(\"%Y%m%d\")\n",
    "        # next的判断\n",
    "        if i < num-1:\n",
    "            if date in pv:\n",
    "                change = ( data[i+1][1]/data[i][1])-1\n",
    "                X_list_n.append(news[date])\n",
    "                X_list_p.append(pv[date])\n",
    "                Y_list.append(change)\n",
    "    # 对Y的处理\n",
    "    Y_list = np.array(Y_list)\n",
    "    threshhold = 0 # 涨跌平的阈值\n",
    "    for i in range(len(Y_list)):\n",
    "        if Y_list[i] > threshhold:\n",
    "            Y_list[i] = 2\n",
    "        elif Y_list[i] < -threshhold:\n",
    "            Y_list[i] = 0\n",
    "        else:\n",
    "            Y_list[i] = 1\n",
    "    n_values=3\n",
    "    Y_list = Y_list.astype(np.int32)\n",
    "    Y_list = np.eye(3)[Y_list]\n",
    "    Y_list.reshape(len(Y_list),3)\n",
    "    return np.array(X_list_p),np.array(X_list_n),Y_list"
   ]
  },
  {
   "cell_type": "code",
   "execution_count": null,
   "metadata": {
    "collapsed": true
   },
   "outputs": [],
   "source": [
    "# 读取词向量到内存\n",
    "def get_coefs(word,*arr):\n",
    "    return word,np.asarray(arr,dtype='float32')\n",
    "emb_index = dict(get_coefs(*o.strip().split()) for o in open(EMB_FILE))"
   ]
  },
  {
   "cell_type": "code",
   "execution_count": null,
   "metadata": {},
   "outputs": [],
   "source": [
    "all_embs = np.stack(emb_index.values())\n",
    "emb_mean = all_embs.mean()\n",
    "emb_std = all_embs.std()\n",
    "word_index = tokenizer.word_index\n",
    "hit_rate = 0\n",
    "ft_words = min(max_features,len(word_index))\n",
    "emb_matrix = np.random.normal(emb_mean,emb_std,(ft_words+1,emb_size))\n",
    "for word, i in word_index.items():\n",
    "    if i > ft_words:\n",
    "        continue\n",
    "    emb_vector = emb_index.get(word)\n",
    "    if emb_vector is not None:\n",
    "        hit_rate += 1\n",
    "        emb_matrix[i] = emb_vector\n",
    "    else:\n",
    "        pass\n",
    "        #print(word)\n",
    "hit_rate = hit_rate/ft_words\n",
    "print(hit_rate)"
   ]
  },
  {
   "cell_type": "code",
   "execution_count": null,
   "metadata": {
    "collapsed": true
   },
   "outputs": [],
   "source": [
    "# 完整模型雏形\n",
    "date_timestep = news_timestep\n",
    "article_timestep = maxlen\n",
    "word_feature_dim = emb_size\n",
    "article_feature_dim = 50\n",
    "single_feature_dim = 50\n",
    "date_feature_dim = 50\n",
    "analysis_feature_dim = 30\n",
    "\n",
    "# 词嵌入\n",
    "embedding_layer = Embedding(ft_words+1,word_feature_dim,weights=[emb_matrix],trainable=False)\n",
    "# embedding_layer = Embedding(ft_words+1,word_feature_dim)\n",
    "embedding_layer = TimeDistributed(embedding_layer)\n",
    "# 篇章理解(双向GRU)\n",
    "article_layer = Bidirectional(GRU(article_feature_dim, return_sequences=True),name='article')\n",
    "article_layer = TimeDistributed(article_layer,)\n",
    "# 时序分析层\n",
    "date_layer = GRU(date_feature_dim)\n",
    "# 分析层\n",
    "analysis_layer = Dense(analysis_feature_dim,activation='sigmoid')\n",
    "# 决策层\n",
    "# decision_layer = Dense(3,activation='softmax')"
   ]
  },
  {
   "cell_type": "code",
   "execution_count": null,
   "metadata": {
    "collapsed": true
   },
   "outputs": [],
   "source": [
    "def build_model(code='Default'):\n",
    "    prices_input  = Input(shape=(prices_timestep,2))\n",
    "    x1 = GRU(50,return_sequences=True)(prices_input)\n",
    "    x1 = Dropout(0.2)(x1)\n",
    "    x1 = GRU(50)(x1)\n",
    "    x1 = Dropout(0.2)(x1)\n",
    "    \n",
    "    news_input = Input(shape=(date_timestep,article_timestep,))\n",
    "    x2 = embedding_layer(news_input)\n",
    "    x2 = article_layer(x2)\n",
    "    x2 = TimeDistributed(GlobalMaxPool1D())(x2) #降维\n",
    "    x2 = Dropout(0.2)(x2)\n",
    "    x2 = TimeDistributed(Dense(single_feature_dim,activation='tanh',name=code))(x2)\n",
    "    x2 = date_layer(x2)\n",
    "    x2 = Dropout(0.2)(x2)\n",
    "    \n",
    "    x = concatenate([x1,x2])\n",
    "    x = Dense(3,activation='softmax')(x)\n",
    "    model = Model(inputs=[prices_input, news_input],outputs=x)\n",
    "    model.compile(loss='categorical_crossentropy',optimizer='adam',metrics=['accuracy'])\n",
    "    return model"
   ]
  },
  {
   "cell_type": "code",
   "execution_count": null,
   "metadata": {
    "collapsed": true
   },
   "outputs": [],
   "source": [
    "model = build_model('GOOGL')"
   ]
  },
  {
   "cell_type": "code",
   "execution_count": null,
   "metadata": {},
   "outputs": [],
   "source": [
    "from keras.utils import plot_model\n",
    "print(model.summary())\n",
    "# plot_model(model, to_file='model_combine.png')"
   ]
  },
  {
   "cell_type": "code",
   "execution_count": null,
   "metadata": {
    "collapsed": true
   },
   "outputs": [],
   "source": [
    "pv_train = prices_window_shift('20150101',div_date,prices['GOOGL'], prices_timestep)\n",
    "pv_test = prices_window_shift(div_date,'20181201',prices['GOOGL'], prices_timestep)\n",
    "news_train = news_window_shift('20150101',div_date,news_dict['GOOGL'], news_timestep)\n",
    "news_test = news_window_shift(div_date,'20181201',news_dict['GOOGL'], news_timestep)"
   ]
  },
  {
   "cell_type": "code",
   "execution_count": null,
   "metadata": {
    "collapsed": true
   },
   "outputs": [],
   "source": [
    "X_train_p,X_train_n,Y_train = get_train_XY(pv_train,news_train,prices['GOOGL'])\n",
    "X_test_p,X_test_n,Y_test = get_train_XY(pv_test,news_test,prices['GOOGL'])"
   ]
  },
  {
   "cell_type": "code",
   "execution_count": null,
   "metadata": {},
   "outputs": [],
   "source": [
    "model.fit(x=[X_train_p[:700],X_train_n[:700]],y=Y_train[:700],batch_size=16, epochs=50,verbose=1,validation_data=([X_train_p[700:],X_train_n[700:]],Y_train[700:]))"
   ]
  },
  {
   "cell_type": "code",
   "execution_count": null,
   "metadata": {},
   "outputs": [],
   "source": [
    "model.evaluate(x=[X_test_p,X_test_n],y=Y_test,batch_size=16)\n",
    "y_pre = model.predict(x=[X_test_p,X_test_n],batch_size=16)"
   ]
  },
  {
   "cell_type": "code",
   "execution_count": null,
   "metadata": {},
   "outputs": [],
   "source": [
    "y_pre"
   ]
  },
  {
   "cell_type": "code",
   "execution_count": null,
   "metadata": {
    "collapsed": true
   },
   "outputs": [],
   "source": [
    "import matplotlib.pyplot as plt"
   ]
  },
  {
   "cell_type": "code",
   "execution_count": null,
   "metadata": {
    "collapsed": true
   },
   "outputs": [],
   "source": [
    "g_open_raw = [item for item in prices['GOOGL']['open'].items()]\n",
    "g_open_x = []\n",
    "g_open_y = []\n",
    "for item in g_open_raw:\n",
    "    date = datetime.datetime.strptime(item[0],\"%Y-%m-%d\").strftime(\"%Y%m%d\")\n",
    "    if date in pv_test:\n",
    "        g_open_x.append(item[0])\n",
    "        g_open_y.append(item[1])"
   ]
  },
  {
   "cell_type": "code",
   "execution_count": null,
   "metadata": {},
   "outputs": [],
   "source": [
    "plt.figure(figsize = (18,9))\n",
    "plt.plot(range(0,len(g_open_y)),g_open_y)\n",
    "plt.xticks(range(0,len(g_open_x),30),g_open_x[::30])\n",
    "plt.xlabel('Date',fontsize=18)\n",
    "plt.ylabel('Open Price',fontsize=18)\n",
    "for i in range(0,len(y_pre)):\n",
    "    a,b,c = y_pre[i]\n",
    "    if a>=b and a>c:\n",
    "        plt.scatter(i,g_open_y[i],color='g',marker='o')\n",
    "    elif c>a and c>=b:\n",
    "        plt.scatter(i,g_open_y[i],color='r',marker='o')\n",
    "    else:\n",
    "        plt.scatter(i,g_open_y[i],color='y',marker='*') \n",
    "plt.show()"
   ]
  },
  {
   "cell_type": "code",
   "execution_count": null,
   "metadata": {
    "collapsed": true
   },
   "outputs": [],
   "source": []
  }
 ],
 "metadata": {
  "kernelspec": {
   "display_name": "deeplearning",
   "language": "python",
   "name": "deeplearning"
  },
  "language_info": {
   "codemirror_mode": {
    "name": "ipython",
    "version": 3
   },
   "file_extension": ".py",
   "mimetype": "text/x-python",
   "name": "python",
   "nbconvert_exporter": "python",
   "pygments_lexer": "ipython3",
   "version": "3.6.2"
  }
 },
 "nbformat": 4,
 "nbformat_minor": 2
}
