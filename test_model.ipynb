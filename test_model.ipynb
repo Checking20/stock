{
 "cells": [
  {
   "cell_type": "code",
   "execution_count": null,
   "metadata": {},
   "outputs": [],
   "source": [
    "from keras.callbacks import TensorBoard\n",
    "from keras.models import load_model \n",
    "from keras import backend as K\n",
    "import callbacks\n",
    "import pandas as pd\n",
    "import numpy as np\n",
    "import scipy\n",
    "import sys\n",
    "import imp"
   ]
  },
  {
   "cell_type": "code",
   "execution_count": null,
   "metadata": {},
   "outputs": [],
   "source": [
    "from process_data import load_data,get_rank_of_size\n",
    "from data_util import unpack_news_data,data_generator\n",
    "from layers import AttentionLayer\n",
    "import models\n",
    "import callbacks\n",
    "\n",
    "imp.reload(models)\n",
    "imp.reload(callbacks)"
   ]
  },
  {
   "cell_type": "code",
   "execution_count": null,
   "metadata": {
    "collapsed": true
   },
   "outputs": [],
   "source": [
    "rank = get_rank_of_size()\n",
    "rank.remove('XOM')\n",
    "rank.remove('GOOG')"
   ]
  },
  {
   "cell_type": "code",
   "execution_count": null,
   "metadata": {
    "collapsed": true
   },
   "outputs": [],
   "source": [
    "data = load_data(rank[:40],encoder_kind='Bert')"
   ]
  },
  {
   "cell_type": "code",
   "execution_count": null,
   "metadata": {
    "collapsed": true
   },
   "outputs": [],
   "source": [
    "data2 = load_data(rank[:20],encoder_kind='Glove')"
   ]
  },
  {
   "cell_type": "code",
   "execution_count": null,
   "metadata": {
    "collapsed": true
   },
   "outputs": [],
   "source": [
    "data3 = load_data(rank[:1],encoder_kind='Bert',with_date=True)"
   ]
  },
  {
   "cell_type": "code",
   "execution_count": null,
   "metadata": {
    "collapsed": true
   },
   "outputs": [],
   "source": [
    "K.clear_session()"
   ]
  },
  {
   "cell_type": "code",
   "execution_count": null,
   "metadata": {
    "collapsed": true
   },
   "outputs": [],
   "source": [
    "h_5 = load_model('model/h_5.h5', custom_objects = {'AttentionLayer': AttentionLayer})\n",
    "h_10 = load_model('model/h_10.h5', custom_objects = {'AttentionLayer': AttentionLayer})\n",
    "h_15 = load_model('model/h_15.h5', custom_objects = {'AttentionLayer': AttentionLayer})\n",
    "t_5 = load_model('model/t_5.h5', custom_objects = {'AttentionLayer': AttentionLayer})\n",
    "t_10 = load_model('model/t_10.h5', custom_objects = {'AttentionLayer': AttentionLayer})\n",
    "t_15 = load_model('model/t_15.h5', custom_objects = {'AttentionLayer': AttentionLayer})\n",
    "n_5 = load_model('model/n_5.h5', custom_objects = {'AttentionLayer': AttentionLayer})\n",
    "n_10 = load_model('model/n_10.h5', custom_objects = {'AttentionLayer': AttentionLayer})\n",
    "n_15 = load_model('model/n_15.h5', custom_objects = {'AttentionLayer': AttentionLayer})\n",
    "n_20 = load_model('model/n_20.h5', custom_objects = {'AttentionLayer': AttentionLayer})\n",
    "h_10_g = load_model('model/h_10_g.h5', custom_objects = {'AttentionLayer': AttentionLayer})\n",
    "r_0 = models.build_guess_model()"
   ]
  },
  {
   "cell_type": "code",
   "execution_count": null,
   "metadata": {
    "collapsed": true
   },
   "outputs": [],
   "source": [
    "cbs = [callbacks.MetricsEx('mcc')]\n",
    "def test(model,kind='H',dkind='test'):\n",
    "    result_dict = {}\n",
    "    for code in rank[21:31]:\n",
    "        if kind == 'H':\n",
    "            result = model.evaluate(x=[unpack_news_data(data[code][dkind][0]),data[code][dkind][1]],\n",
    "                             y=data[code][dkind][2],batch_size=64,)\n",
    "        if kind == 'N':\n",
    "            result = model.evaluate(x=data[code][dkind][1],y=data[code][dkind][2],batch_size=64,)\n",
    "        if kind == 'T':\n",
    "            result = model.evaluate(x=unpack_news_data(data[code][dkind][0]),y=data[code][dkind][2],batch_size=64,)\n",
    "        if kind == 'G':\n",
    "            result = model.evaluate(x=np.random.randint(2, size=(data[code][dkind][2].shape[0],1)),\n",
    "                                    y=data[code][dkind][2],batch_size=64)\n",
    "        if kind == 'HG':\n",
    "            result = model.evaluate(x=[unpack_news_data(data2[code][dkind][0]),data2[code][dkind][1]],\n",
    "                             y=data2[code][dkind][2],batch_size=64)\n",
    "        result_dict[code] = result[1]\n",
    "        if 'avg' not in result_dict:\n",
    "            result_dict['avg'] = 0\n",
    "        result_dict['avg'] += result[1]\n",
    "    result_dict['avg'] /= 10\n",
    "    return result_dict"
   ]
  },
  {
   "cell_type": "code",
   "execution_count": null,
   "metadata": {
    "collapsed": true
   },
   "outputs": [],
   "source": [
    "test_dict = dict()\n",
    "test_dict['h_5'] = test(h_5, kind='H')\n",
    "test_dict['h_10'] = test(h_10, kind='H')\n",
    "test_dict['h_15'] = test(h_15, kind='H')\n",
    "test_dict['t_5'] = test(t_5, kind='T')\n",
    "test_dict['t_10'] = test(t_10, kind='T')\n",
    "test_dict['t_15'] = test(t_15, kind='T')\n",
    "test_dict['N_5'] = test(n_5, kind='N')\n",
    "test_dict['N_10'] = test(n_10, kind='N')\n",
    "test_dict['N_15'] = test(n_15, kind='N')\n",
    "test_dict['N_20'] = test(n_20, kind='N')\n"
   ]
  },
  {
   "cell_type": "code",
   "execution_count": null,
   "metadata": {
    "collapsed": true
   },
   "outputs": [],
   "source": [
    "np.random.seed(35)\n",
    "test_dict['r_0'] = test(r_0,kind='G')\n",
    "test_dict['h_10_g'] = test(h_10_g,kind='HG')\n",
    "test2_dict['h_10'] =  test(h_10, kind='H',dkind='train')"
   ]
  },
  {
   "cell_type": "code",
   "execution_count": null,
   "metadata": {
    "collapsed": true
   },
   "outputs": [],
   "source": [
    "import csv\n",
    "with open('result_g.csv','w',newline='') as f:\n",
    "    header = list(test_dict['h_5'].keys())\n",
    "    header.remove('avg')\n",
    "    header.append('avg')\n",
    "    writer = csv.DictWriter(f,header)\n",
    "    writer.writeheader()\n",
    "    writer.writerow(test_dict['h_10'])\n",
    "    writer.writerow(test_dict['h_10_g'])"
   ]
  },
  {
   "cell_type": "code",
   "execution_count": null,
   "metadata": {
    "collapsed": true
   },
   "outputs": [],
   "source": [
    "import matplotlib.pyplot as plt\n",
    "from numpy import arange\n",
    "ppp = ['h_10', 't_10', 'N_20', 'r_0']\n",
    "\n",
    "bar_widths = [test_dict[p]['avg'] for p in ppp]\n",
    "bar_positions = arange(4) + 0.75\n",
    "tick_positions = range(1,5)\n",
    "fig, ax = plt.subplots()\n",
    "ax.barh(bar_positions, bar_widths, 0.5)\n",
    "\n",
    "ax.set_yticks(tick_positions)\n",
    "ax.set_yticklabels(num_cols)\n",
    "ax.set_ylabel('model objects')\n",
    "ax.set_xlabel('average precision')\n",
    "\n",
    "plt.show()"
   ]
  }
 ],
 "metadata": {
  "kernelspec": {
   "display_name": "deeplearning",
   "language": "python",
   "name": "deeplearning"
  },
  "language_info": {
   "codemirror_mode": {
    "name": "ipython",
    "version": 3
   },
   "file_extension": ".py",
   "mimetype": "text/x-python",
   "name": "python",
   "nbconvert_exporter": "python",
   "pygments_lexer": "ipython3",
   "version": "3.6.2"
  }
 },
 "nbformat": 4,
 "nbformat_minor": 2
}
