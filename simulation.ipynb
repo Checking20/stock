{
 "cells": [
  {
   "cell_type": "code",
   "execution_count": null,
   "metadata": {},
   "outputs": [],
   "source": [
    "from keras.models import load_model\n",
    "import pandas as pd\n",
    "import numpy as np\n",
    "import scipy\n",
    "import sys\n",
    "import imp"
   ]
  },
  {
   "cell_type": "code",
   "execution_count": null,
   "metadata": {
    "collapsed": true
   },
   "outputs": [],
   "source": [
    "from layers import AttentionLayer\n",
    "from data_util import unpack_news_data,data_generator\n",
    "from process_data import load_data,get_rank_of_size"
   ]
  },
  {
   "cell_type": "code",
   "execution_count": null,
   "metadata": {
    "collapsed": true
   },
   "outputs": [],
   "source": [
    "rank = get_rank_of_size()\n",
    "rank.remove('XOM')\n",
    "rank.remove('GOOG')\n",
    "codes = rank[21:31]"
   ]
  },
  {
   "cell_type": "code",
   "execution_count": null,
   "metadata": {},
   "outputs": [],
   "source": [
    "rank = get_rank_of_size()\n",
    "rank.remove('XOM')\n",
    "rank.remove('GOOG')\n",
    "print(rank[21:31])"
   ]
  },
  {
   "cell_type": "code",
   "execution_count": null,
   "metadata": {
    "collapsed": true
   },
   "outputs": [],
   "source": [
    "prices_dir = 'data2/prices/'\n",
    "pdata = dict()\n",
    "for code in codes:\n",
    "    pdata[code] = pd.read_csv(prices_dir+'stockPrices_%s.csv'%(code))\n",
    "    pdata[code]['Date'] = pd.to_datetime(pdata[code]['Date'])"
   ]
  },
  {
   "cell_type": "code",
   "execution_count": null,
   "metadata": {},
   "outputs": [],
   "source": [
    "model =  load_model('model/h_10.h5', custom_objects = {'AttentionLayer': AttentionLayer})"
   ]
  },
  {
   "cell_type": "code",
   "execution_count": null,
   "metadata": {},
   "outputs": [],
   "source": [
    "data = load_data(codes,encoder_kind='Bert',with_date=True)"
   ]
  },
  {
   "cell_type": "code",
   "execution_count": null,
   "metadata": {
    "collapsed": true
   },
   "outputs": [],
   "source": [
    "def get_pred(code):\n",
    "    pre = model.predict(x=[unpack_news_data(data[code]['train'][0]),data[code]['train'][1]],\n",
    "                               verbose=0,batch_size=64)\n",
    "    y_pred = np.argmax(pre,axis=-1)\n",
    "    y_true = np.argmax(data[code]['train'][2],axis=-1)\n",
    "    # y_match = y_true == y_pred\n",
    "    # y_match = result.astype(np.int)\n",
    "    return y_pred"
   ]
  },
  {
   "cell_type": "code",
   "execution_count": null,
   "metadata": {
    "collapsed": true
   },
   "outputs": [],
   "source": [
    "sim = dict()\n",
    "for code in codes:\n",
    "    sim[code] = list()\n",
    "    y_pred = get_pred(code)\n",
    "    for i in range(len(y_pred)):\n",
    "        pred = y_pred[i]\n",
    "        date = data[code]['train'][3][i]\n",
    "        sim[code].append((date,pred))"
   ]
  },
  {
   "cell_type": "code",
   "execution_count": null,
   "metadata": {
    "collapsed": true
   },
   "outputs": [],
   "source": [
    "def simulate(pred_data,prices_data,days=1):\n",
    "    earnings = 0\n",
    "    batch = 10000\n",
    "    for i in range(len(pred_data)):\n",
    "        dt = pred_data[i][0]\n",
    "        pr = pred_data[i][1]\n",
    "        prices = prices_data[prices_data['Date']>=dt][:days]\n",
    "        high_price = max(prices['High'].values)\n",
    "        low_price = max(prices['Low'].values)\n",
    "        open_price = prices['Open'].values[0]\n",
    "        close_price = prices['Close'].values[-1]\n",
    "        if pr == 1:\n",
    "            change_rate = close_price/open_price-1\n",
    "            day_rate = high_price/open_price-1\n",
    "            if day_rate >= 0.02:\n",
    "                change_rate = 0.02\n",
    "        else:\n",
    "            change_rate = open_price/close_price-1\n",
    "            day_rate = open_price/low_price-1\n",
    "            if day_rate >= 0.01:\n",
    "                change_rate = 0.01\n",
    "        earnings += batch*change_rate\n",
    "    return earnings"
   ]
  },
  {
   "cell_type": "code",
   "execution_count": null,
   "metadata": {},
   "outputs": [],
   "source": [
    "earnings = dict()\n",
    "for code in codes:\n",
    "    earnings[code]=simulate(sim[code],pdata[code],1)\n",
    "earnings['avg']=np.mean(list(earnings.values()))"
   ]
  },
  {
   "cell_type": "code",
   "execution_count": null,
   "metadata": {},
   "outputs": [],
   "source": [
    "earnings"
   ]
  },
  {
   "cell_type": "code",
   "execution_count": null,
   "metadata": {
    "collapsed": true
   },
   "outputs": [],
   "source": []
  },
  {
   "cell_type": "code",
   "execution_count": null,
   "metadata": {
    "collapsed": true
   },
   "outputs": [],
   "source": []
  }
 ],
 "metadata": {
  "kernelspec": {
   "display_name": "deeplearning",
   "language": "python",
   "name": "deeplearning"
  },
  "language_info": {
   "codemirror_mode": {
    "name": "ipython",
    "version": 3
   },
   "file_extension": ".py",
   "mimetype": "text/x-python",
   "name": "python",
   "nbconvert_exporter": "python",
   "pygments_lexer": "ipython3",
   "version": "3.6.2"
  }
 },
 "nbformat": 4,
 "nbformat_minor": 2
}
