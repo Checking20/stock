{
 "cells": [
  {
   "cell_type": "code",
   "execution_count": 1,
   "metadata": {},
   "outputs": [
    {
     "name": "stderr",
     "output_type": "stream",
     "text": [
      "Using TensorFlow backend.\n"
     ]
    }
   ],
   "source": [
    "# import useful lib\n",
    "import sys, os, re, csv, codecs\n",
    "import json\n",
    "import math\n",
    "import datetime\n",
    "import numpy as np\n",
    "import pandas as pd\n",
    "from sklearn.preprocessing import MinMaxScaler\n",
    "\n",
    "# import lib to clear the news\n",
    "from nltk.tokenize import word_tokenize\n",
    "from nltk.stem import WordNetLemmatizer\n",
    "\n",
    "# import keras\n",
    "from keras.preprocessing.text import Tokenizer\n",
    "from keras.preprocessing.sequence import pad_sequences\n",
    "from keras.layers import Dense, Input, LSTM, Embedding, Dropout, Activation, GRU\n",
    "from keras.layers import Bidirectional, GlobalMaxPool1D, TimeDistributed,concatenate\n",
    "from keras.models import Model\n",
    "from keras import initializers, regularizers, constraints, optimizers, layers"
   ]
  },
  {
   "cell_type": "code",
   "execution_count": 2,
   "metadata": {
    "collapsed": true
   },
   "outputs": [],
   "source": [
    "# 价格数据\n",
    "PRICES_DATA = 'data/stockPrices_raw.json'\n",
    "# 词向量文件\n",
    "EMB_FILE = \"GloVe/glove.42B.300d.txt\"\n",
    "# 新闻文件\n",
    "NEWS_FILE = \"data/tp.csv\""
   ]
  },
  {
   "cell_type": "code",
   "execution_count": 54,
   "metadata": {
    "collapsed": true
   },
   "outputs": [],
   "source": [
    "# 词向量维度\n",
    "emb_size = 300\n",
    "# 最大词特征（多少个词）\n",
    "max_features = 20000\n",
    "# 新闻最大长度\n",
    "maxlen = 30\n",
    "# 新闻时间步\n",
    "news_timestep = 7\n",
    "# 数值信息时间步\n",
    "prices_timestep = 20\n",
    "# 划分时间点\n",
    "div_date = '20180101'\n",
    "bound_date = '20181201'"
   ]
  },
  {
   "cell_type": "code",
   "execution_count": 4,
   "metadata": {
    "collapsed": true
   },
   "outputs": [],
   "source": [
    "# 读取数据(pandas.dataframe)\n",
    "news = pd.read_csv(NEWS_FILE)\n",
    "# 读取价格数据(dict)\n",
    "prices = None\n",
    "with open(PRICES_DATA,'r') as file:\n",
    "    prices = json.load(file)"
   ]
  },
  {
   "cell_type": "code",
   "execution_count": 5,
   "metadata": {
    "collapsed": true
   },
   "outputs": [],
   "source": [
    "# 清洗数据(词性还原)\n",
    "def clean_news(news_raws):\n",
    "    lemma=WordNetLemmatizer()\n",
    "    news_rows=[]\n",
    "    for i in range(0,len(news_raws)):\n",
    "        news=str(news_raws[i])\n",
    "        news=[lemma.lemmatize(w) for w in word_tokenize(str(news).lower())]  # 词性还原\n",
    "        news=' '.join(news)\n",
    "        news_rows.append(news)\n",
    "    return news_rows"
   ]
  },
  {
   "cell_type": "code",
   "execution_count": 6,
   "metadata": {
    "collapsed": true
   },
   "outputs": [],
   "source": [
    "# 按照代码划分新闻数据\n",
    "news_dict = dict()\n",
    "codes =  news['code'].drop_duplicates() # 得到股票代码\n",
    "for code in codes:\n",
    "    code_news= news.loc[news['code']==code].copy(deep=True)\n",
    "    code_news.reset_index(drop=True,inplace=True)\n",
    "    code_news['news'] = code_news['headline'] # !更多的文本利用\n",
    "    code_news['news'] = clean_news(code_news['news'])\n",
    "    news_dict[code] = pd.DataFrame({'date':code_news['date'],'news':code_news['news']})"
   ]
  },
  {
   "cell_type": "code",
   "execution_count": 7,
   "metadata": {},
   "outputs": [
    {
     "name": "stdout",
     "output_type": "stream",
     "text": [
      "the number of different words: 6895\n"
     ]
    }
   ],
   "source": [
    "# 训练新闻文本数据（用于训练tokenizer）\n",
    "text_train = news['headline'].loc[news['date']<int(div_date)]\n",
    "text_train.reset_index(drop=True,inplace=True)\n",
    "text_train = clean_news(text_train)\n",
    "# 训练tokenizer（得到word2idx）\n",
    "tokenizer = Tokenizer(num_words=max_features)\n",
    "tokenizer.fit_on_texts(list(text_train))\n",
    "print('the number of different words:',len(tokenizer.word_index))"
   ]
  },
  {
   "cell_type": "code",
   "execution_count": 8,
   "metadata": {
    "collapsed": true
   },
   "outputs": [],
   "source": [
    "# 格式转化（dataframe->dict）\n",
    "date_news_dict=dict()\n",
    "for code in codes:\n",
    "    token_train = tokenizer.texts_to_sequences(news_dict[code]['news'])\n",
    "    seqs = pad_sequences(token_train,maxlen=maxlen,truncating='post')\n",
    "    dates = news_dict[code]['date']\n",
    "    date_news_dict[code]=dict()\n",
    "    for i in range(len(seqs)):\n",
    "        date_news_dict[code][dates[i]]=seqs[i]\n",
    "news_dict = date_news_dict"
   ]
  },
  {
   "cell_type": "code",
   "execution_count": 9,
   "metadata": {
    "collapsed": true
   },
   "outputs": [],
   "source": [
    "# 新闻的滑动窗口生成器\n",
    "def news_window_shift(f_date,t_date,time_dict_data,window_size):\n",
    "    # 左闭右开\n",
    "    mindate = datetime.datetime.strptime(f_date,\"%Y%m%d\")\n",
    "    maxdate = datetime.datetime.strptime(t_date,\"%Y%m%d\")-datetime.timedelta(days=1)\n",
    "    it = mindate\n",
    "    window_dict = dict()\n",
    "    while(it<=maxdate):\n",
    "        today = it.strftime(\"%Y%m%d\")\n",
    "        window_dict[today]=list()\n",
    "        for i in range(window_size):\n",
    "            bf = it - datetime.timedelta(days=window_size-1-i)\n",
    "            bf = int(bf.strftime(\"%Y%m%d\"))\n",
    "            if int(bf) in time_dict_data:\n",
    "                window_dict[today].append(time_dict_data[bf])\n",
    "            else:\n",
    "                window_dict[today].append(np.zeros(maxlen))      \n",
    "        it += datetime.timedelta(days=1)\n",
    "    return window_dict"
   ]
  },
  {
   "cell_type": "code",
   "execution_count": 11,
   "metadata": {
    "collapsed": true
   },
   "outputs": [],
   "source": [
    "# 对数据框内的数值进行归一化\n",
    "def normalization(data_list):\n",
    "    scaler = MinMaxScaler(copy=True, feature_range=(0, 1))\n",
    "    values = np.array([item[1] for item in data_list])\n",
    "    values = values.reshape(-1,1)\n",
    "    scaler.fit(values)\n",
    "    transformed_values = scaler.transform(values)\n",
    "    transformed_data_list = []\n",
    "    for i in range(len(data_list)):\n",
    "        transformed_data_list.append((data_list[i][0],transformed_values[i][0]))\n",
    "    return transformed_data_list\n",
    "\n",
    "# 价格的滑动窗口生层器(内层)\n",
    "def _price_window_shift(f_date,t_date,time_dict_data,window_size):\n",
    "    data = [item for item in time_dict_data.items()]\n",
    "    mindate = datetime.datetime.strptime(f_date,\"%Y%m%d\")\n",
    "    maxdate = datetime.datetime.strptime(t_date,\"%Y%m%d\")-datetime.timedelta(days=1)\n",
    "    windows_dict = dict()\n",
    "    # ! 可以进一步数据清洗\n",
    "    for i in range(len(data)):\n",
    "        cr_date = datetime.datetime.strptime(data[i][0],\"%Y-%m-%d\")\n",
    "        if cr_date < mindate:\n",
    "            continue\n",
    "        if cr_date > maxdate:\n",
    "            break\n",
    "        if i >= window_size-1:\n",
    "            windows_dict[cr_date.strftime(\"%Y%m%d\")] = normalization(data[i+1-window_size:i+1])\n",
    "    return windows_dict\n",
    "\n",
    "# 合并数值数据\n",
    "def combine_data(tup):\n",
    "    data_dict = dict()\n",
    "    tp = tuple(tup)\n",
    "    num = len(tp)\n",
    "    for key in tp[0].keys():\n",
    "        data_dict[key] = list()\n",
    "        window_size = len((tp[0])[key])\n",
    "        for i in range(window_size):\n",
    "            cur_tuple = list()\n",
    "            for j in range(num):\n",
    "                cur_tuple.append(((tp[j])[key])[i][1])\n",
    "            cur_tuple = tuple(cur_tuple)\n",
    "            data_dict[key].append(cur_tuple)\n",
    "    return data_dict\n",
    "\n",
    "# 价格的滑动窗口生层器(表层)\n",
    "def prices_window_shift(f_date,t_date,time_dict_data,window_size):\n",
    "    open_dict = _price_window_shift(f_date,t_date,time_dict_data['open'],window_size)\n",
    "    vol_dict = _price_window_shift(f_date,t_date,time_dict_data['volume'],window_size)\n",
    "    prices_dict = combine_data((open_dict,vol_dict))\n",
    "    return prices_dict"
   ]
  },
  {
   "cell_type": "code",
   "execution_count": 10,
   "metadata": {
    "collapsed": true
   },
   "outputs": [],
   "source": [
    "def get_train_XY(pv,news,raw_data):\n",
    "    Y_list = list()\n",
    "    X_list_p = list()\n",
    "    X_list_n = list()\n",
    "    data = [item for item in raw_data['open'].items()]\n",
    "    num = len(data)\n",
    "    for i in range(num):\n",
    "        date = datetime.datetime.strptime(data[i][0],\"%Y-%m-%d\").strftime(\"%Y%m%d\")\n",
    "        # next的判断\n",
    "        if i < num-1:\n",
    "            if date in pv:\n",
    "                change = ( data[i+1][1]/data[i][1])-1\n",
    "                X_list_n.append(news[date])\n",
    "                X_list_p.append(pv[date])\n",
    "                Y_list.append(change)\n",
    "    # 对Y的处理\n",
    "    Y_list = np.array(Y_list)\n",
    "    threshhold = 0 # 涨跌平的阈值\n",
    "    for i in range(len(Y_list)):\n",
    "        if Y_list[i] > threshhold:\n",
    "            Y_list[i] = 2\n",
    "        elif Y_list[i] < -threshhold:\n",
    "            Y_list[i] = 0\n",
    "        else:\n",
    "            Y_list[i] = 1\n",
    "    n_values=3\n",
    "    Y_list = Y_list.astype(np.int32)\n",
    "    Y_list = np.eye(3)[Y_list]\n",
    "    Y_list.reshape(len(Y_list),3)\n",
    "    return np.array(X_list_p),np.array(X_list_n),Y_list"
   ]
  },
  {
   "cell_type": "code",
   "execution_count": 14,
   "metadata": {
    "collapsed": true
   },
   "outputs": [],
   "source": [
    "# 读取词向量到内存\n",
    "def get_coefs(word,*arr):\n",
    "    return word,np.asarray(arr,dtype='float32')\n",
    "emb_index = dict(get_coefs(*o.strip().split()) for o in open(EMB_FILE))"
   ]
  },
  {
   "cell_type": "code",
   "execution_count": 15,
   "metadata": {},
   "outputs": [
    {
     "name": "stdout",
     "output_type": "stream",
     "text": [
      "0.9490935460478608\n"
     ]
    }
   ],
   "source": [
    "all_embs = np.stack(emb_index.values())\n",
    "emb_mean = all_embs.mean()\n",
    "emb_std = all_embs.std()\n",
    "word_index = tokenizer.word_index\n",
    "hit_rate = 0\n",
    "ft_words = min(max_features,len(word_index))\n",
    "emb_matrix = np.random.normal(emb_mean,emb_std,(ft_words+1,emb_size))\n",
    "for word, i in word_index.items():\n",
    "    if i > ft_words:\n",
    "        continue\n",
    "    emb_vector = emb_index.get(word)\n",
    "    if emb_vector is not None:\n",
    "        hit_rate += 1\n",
    "        emb_matrix[i] = emb_vector\n",
    "    else:\n",
    "        pass\n",
    "        #print(word)\n",
    "hit_rate = hit_rate/ft_words\n",
    "print(hit_rate)"
   ]
  },
  {
   "cell_type": "code",
   "execution_count": 18,
   "metadata": {
    "collapsed": true
   },
   "outputs": [],
   "source": [
    "# 完整模型雏形\n",
    "date_timestep = news_timestep\n",
    "article_timestep = maxlen\n",
    "word_feature_dim = emb_size\n",
    "article_feature_dim = 50\n",
    "single_feature_dim = 50\n",
    "date_feature_dim = 50\n",
    "analysis_feature_dim = 30\n",
    "\n",
    "# 词嵌入\n",
    "embedding_layer = Embedding(ft_words+1,word_feature_dim,weights=[emb_matrix],trainable=False)\n",
    "# embedding_layer = Embedding(ft_words+1,word_feature_dim)\n",
    "embedding_layer = TimeDistributed(embedding_layer)\n",
    "# 篇章理解(双向GRU)\n",
    "article_layer = Bidirectional(GRU(article_feature_dim, return_sequences=True),name='article')\n",
    "article_layer = TimeDistributed(article_layer,)\n",
    "# 时序分析层\n",
    "date_layer = GRU(date_feature_dim)\n",
    "# 分析层\n",
    "analysis_layer = Dense(analysis_feature_dim,activation='sigmoid')\n",
    "# 决策层\n",
    "# decision_layer = Dense(3,activation='softmax')"
   ]
  },
  {
   "cell_type": "code",
   "execution_count": 21,
   "metadata": {
    "collapsed": true
   },
   "outputs": [],
   "source": [
    "def build_model(code='Default'):\n",
    "    prices_input  = Input(shape=(prices_timestep,2))\n",
    "    x1 = GRU(50,return_sequences=True)(prices_input)\n",
    "    x1 = Dropout(0.2)(x1)\n",
    "    x1 = GRU(50)(x1)\n",
    "    x1 = Dropout(0.2)(x1)\n",
    "    \n",
    "    news_input = Input(shape=(date_timestep,article_timestep,))\n",
    "    x2 = embedding_layer(news_input)\n",
    "    x2 = article_layer(x2)\n",
    "    x2 = TimeDistributed(GlobalMaxPool1D())(x2) #降维\n",
    "    x2 = Dropout(0.2)(x2)\n",
    "    x2 = TimeDistributed(Dense(single_feature_dim,activation='tanh',name=code))(x2)\n",
    "    x2 = date_layer(x2)\n",
    "    x2 = Dropout(0.2)(x2)\n",
    "    \n",
    "    x = concatenate([x1,x2])\n",
    "    x = Dense(3,activation='softmax')(x)\n",
    "    model = Model(inputs=[prices_input, news_input],outputs=x)\n",
    "    model.compile(loss='categorical_crossentropy',optimizer='adam',metrics=['accuracy'])\n",
    "    return model"
   ]
  },
  {
   "cell_type": "code",
   "execution_count": 22,
   "metadata": {},
   "outputs": [],
   "source": [
    "model = build_model('GOOGL')"
   ]
  },
  {
   "cell_type": "code",
   "execution_count": 23,
   "metadata": {},
   "outputs": [
    {
     "name": "stdout",
     "output_type": "stream",
     "text": [
      "____________________________________________________________________________________________________\n",
      "Layer (type)                     Output Shape          Param #     Connected to                     \n",
      "====================================================================================================\n",
      "input_4 (InputLayer)             (None, 7, 30)         0                                            \n",
      "____________________________________________________________________________________________________\n",
      "time_distributed_3 (TimeDistribu (None, 7, 30, 300)    2068800     input_4[0][0]                    \n",
      "____________________________________________________________________________________________________\n",
      "time_distributed_4 (TimeDistribu (None, 7, 30, 100)    105300      time_distributed_3[1][0]         \n",
      "____________________________________________________________________________________________________\n",
      "input_3 (InputLayer)             (None, 20, 2)         0                                            \n",
      "____________________________________________________________________________________________________\n",
      "time_distributed_6 (TimeDistribu (None, 7, 100)        0           time_distributed_4[1][0]         \n",
      "____________________________________________________________________________________________________\n",
      "gru_7 (GRU)                      (None, 20, 50)        7950        input_3[0][0]                    \n",
      "____________________________________________________________________________________________________\n",
      "dropout_5 (Dropout)              (None, 7, 100)        0           time_distributed_6[0][0]         \n",
      "____________________________________________________________________________________________________\n",
      "dropout_3 (Dropout)              (None, 20, 50)        0           gru_7[0][0]                      \n",
      "____________________________________________________________________________________________________\n",
      "time_distributed_7 (TimeDistribu (None, 7, 50)         5050        dropout_5[0][0]                  \n",
      "____________________________________________________________________________________________________\n",
      "gru_8 (GRU)                      (None, 50)            15150       dropout_3[0][0]                  \n",
      "____________________________________________________________________________________________________\n",
      "gru_4 (GRU)                      (None, 50)            15150       time_distributed_7[0][0]         \n",
      "____________________________________________________________________________________________________\n",
      "dropout_4 (Dropout)              (None, 50)            0           gru_8[0][0]                      \n",
      "____________________________________________________________________________________________________\n",
      "dropout_6 (Dropout)              (None, 50)            0           gru_4[0][0]                      \n",
      "____________________________________________________________________________________________________\n",
      "concatenate_1 (Concatenate)      (None, 100)           0           dropout_4[0][0]                  \n",
      "                                                                   dropout_6[0][0]                  \n",
      "____________________________________________________________________________________________________\n",
      "dense_3 (Dense)                  (None, 3)             303         concatenate_1[0][0]              \n",
      "====================================================================================================\n",
      "Total params: 2,217,703\n",
      "Trainable params: 148,903\n",
      "Non-trainable params: 2,068,800\n",
      "____________________________________________________________________________________________________\n",
      "None\n"
     ]
    }
   ],
   "source": [
    "from keras.utils import plot_model\n",
    "print(model.summary())\n",
    "# plot_model(model, to_file='model_combine.png')"
   ]
  },
  {
   "cell_type": "code",
   "execution_count": 12,
   "metadata": {
    "collapsed": true
   },
   "outputs": [],
   "source": [
    "pv_train = prices_window_shift('20150101',div_date,prices['GOOGL'], prices_timestep)\n",
    "pv_test = prices_window_shift(div_date,'20181201',prices['GOOGL'], prices_timestep)\n",
    "news_train = news_window_shift('20150101',div_date,news_dict['GOOGL'], news_timestep)\n",
    "news_test = news_window_shift(div_date,'20181201',news_dict['GOOGL'], news_timestep)"
   ]
  },
  {
   "cell_type": "code",
   "execution_count": 29,
   "metadata": {
    "collapsed": true
   },
   "outputs": [],
   "source": [
    "X_train_p,X_train_n,Y_train = get_train_XY(pv_train,news_train,prices['GOOGL'])\n",
    "X_test_p,X_test_n,Y_test = get_train_XY(pv_test,news_test,prices['GOOGL'])"
   ]
  },
  {
   "cell_type": "code",
   "execution_count": 24,
   "metadata": {},
   "outputs": [
    {
     "name": "stdout",
     "output_type": "stream",
     "text": [
      "Train on 700 samples, validate on 55 samples\n",
      "Epoch 1/50\n",
      "700/700 [==============================] - 11s - loss: 0.7769 - acc: 0.5200 - val_loss: 0.6892 - val_acc: 0.6364\n",
      "Epoch 2/50\n",
      "700/700 [==============================] - 4s - loss: 0.7070 - acc: 0.5614 - val_loss: 0.6887 - val_acc: 0.5636\n",
      "Epoch 3/50\n",
      "700/700 [==============================] - 5s - loss: 0.7048 - acc: 0.5271 - val_loss: 0.6903 - val_acc: 0.5636\n",
      "Epoch 4/50\n",
      "700/700 [==============================] - 5s - loss: 0.6984 - acc: 0.5257 - val_loss: 0.6928 - val_acc: 0.4545\n",
      "Epoch 5/50\n",
      "700/700 [==============================] - 4s - loss: 0.7068 - acc: 0.5200 - val_loss: 0.6919 - val_acc: 0.5636\n",
      "Epoch 6/50\n",
      "700/700 [==============================] - 5s - loss: 0.6866 - acc: 0.5586 - val_loss: 0.6836 - val_acc: 0.5636\n",
      "Epoch 7/50\n",
      "700/700 [==============================] - 5s - loss: 0.6976 - acc: 0.5300 - val_loss: 0.7217 - val_acc: 0.5091\n",
      "Epoch 8/50\n",
      "700/700 [==============================] - 5s - loss: 0.7033 - acc: 0.5286 - val_loss: 0.6885 - val_acc: 0.4545\n",
      "Epoch 9/50\n",
      "700/700 [==============================] - 5s - loss: 0.6844 - acc: 0.5800 - val_loss: 0.6826 - val_acc: 0.5818\n",
      "Epoch 10/50\n",
      "700/700 [==============================] - 5s - loss: 0.6765 - acc: 0.5871 - val_loss: 0.6827 - val_acc: 0.5818\n",
      "Epoch 11/50\n",
      "700/700 [==============================] - 5s - loss: 0.6607 - acc: 0.6214 - val_loss: 0.6944 - val_acc: 0.4909\n",
      "Epoch 12/50\n",
      "700/700 [==============================] - 4s - loss: 0.6550 - acc: 0.5929 - val_loss: 0.6913 - val_acc: 0.5091\n",
      "Epoch 13/50\n",
      "700/700 [==============================] - 4s - loss: 0.6221 - acc: 0.6686 - val_loss: 0.7207 - val_acc: 0.5273\n",
      "Epoch 14/50\n",
      "700/700 [==============================] - 4s - loss: 0.5880 - acc: 0.6600 - val_loss: 0.7645 - val_acc: 0.5091\n",
      "Epoch 15/50\n",
      "700/700 [==============================] - 5s - loss: 0.5619 - acc: 0.6757 - val_loss: 0.8521 - val_acc: 0.4364\n",
      "Epoch 16/50\n",
      "700/700 [==============================] - 4s - loss: 0.5453 - acc: 0.6700 - val_loss: 0.8274 - val_acc: 0.5091\n",
      "Epoch 17/50\n",
      "700/700 [==============================] - 5s - loss: 0.5032 - acc: 0.7086 - val_loss: 0.9280 - val_acc: 0.4545\n",
      "Epoch 18/50\n",
      "700/700 [==============================] - 4s - loss: 0.5194 - acc: 0.7029 - val_loss: 0.9438 - val_acc: 0.4727\n",
      "Epoch 19/50\n",
      "700/700 [==============================] - 6s - loss: 0.4898 - acc: 0.7100 - val_loss: 0.9734 - val_acc: 0.3818\n",
      "Epoch 20/50\n",
      "700/700 [==============================] - 4s - loss: 0.4859 - acc: 0.7157 - val_loss: 0.9736 - val_acc: 0.5091\n",
      "Epoch 21/50\n",
      "700/700 [==============================] - 6s - loss: 0.4689 - acc: 0.7057 - val_loss: 1.0814 - val_acc: 0.4727\n",
      "Epoch 22/50\n",
      "700/700 [==============================] - 5s - loss: 0.4441 - acc: 0.7371 - val_loss: 1.0658 - val_acc: 0.5273\n",
      "Epoch 23/50\n",
      "700/700 [==============================] - 5s - loss: 0.4599 - acc: 0.7229 - val_loss: 1.0726 - val_acc: 0.4909\n",
      "Epoch 24/50\n",
      "700/700 [==============================] - 5s - loss: 0.4351 - acc: 0.7343 - val_loss: 1.2056 - val_acc: 0.4727\n",
      "Epoch 25/50\n",
      "700/700 [==============================] - 5s - loss: 0.4307 - acc: 0.7571 - val_loss: 1.1413 - val_acc: 0.4727\n",
      "Epoch 26/50\n",
      "700/700 [==============================] - 5s - loss: 0.4400 - acc: 0.7300 - val_loss: 1.2110 - val_acc: 0.4909\n",
      "Epoch 27/50\n",
      "700/700 [==============================] - 5s - loss: 0.4208 - acc: 0.7614 - val_loss: 1.1701 - val_acc: 0.4727\n",
      "Epoch 28/50\n",
      "700/700 [==============================] - 5s - loss: 0.4113 - acc: 0.7471 - val_loss: 1.3196 - val_acc: 0.4727\n",
      "Epoch 29/50\n",
      "700/700 [==============================] - 5s - loss: 0.4097 - acc: 0.7671 - val_loss: 1.3141 - val_acc: 0.5273\n",
      "Epoch 30/50\n",
      "700/700 [==============================] - 5s - loss: 0.4024 - acc: 0.7686 - val_loss: 1.2961 - val_acc: 0.4727\n",
      "Epoch 31/50\n",
      "700/700 [==============================] - 5s - loss: 0.4095 - acc: 0.7757 - val_loss: 1.2791 - val_acc: 0.5273\n",
      "Epoch 32/50\n",
      "700/700 [==============================] - 5s - loss: 0.4098 - acc: 0.7529 - val_loss: 1.4234 - val_acc: 0.4909\n",
      "Epoch 33/50\n",
      "700/700 [==============================] - 5s - loss: 0.3878 - acc: 0.7743 - val_loss: 1.4058 - val_acc: 0.5091\n",
      "Epoch 34/50\n",
      "700/700 [==============================] - 5s - loss: 0.3810 - acc: 0.7686 - val_loss: 1.3872 - val_acc: 0.5091\n",
      "Epoch 35/50\n",
      "700/700 [==============================] - 4s - loss: 0.3978 - acc: 0.7671 - val_loss: 1.3708 - val_acc: 0.5091\n",
      "Epoch 36/50\n",
      "700/700 [==============================] - 4s - loss: 0.3995 - acc: 0.7757 - val_loss: 1.3724 - val_acc: 0.5091\n",
      "Epoch 37/50\n",
      "700/700 [==============================] - 4s - loss: 0.3925 - acc: 0.7914 - val_loss: 1.3537 - val_acc: 0.6000\n",
      "Epoch 38/50\n",
      "700/700 [==============================] - 5s - loss: 0.3597 - acc: 0.8043 - val_loss: 1.4146 - val_acc: 0.5273\n",
      "Epoch 39/50\n",
      "700/700 [==============================] - 5s - loss: 0.3467 - acc: 0.8086 - val_loss: 1.3603 - val_acc: 0.5091\n",
      "Epoch 40/50\n",
      "700/700 [==============================] - 5s - loss: 0.3735 - acc: 0.7729 - val_loss: 1.4523 - val_acc: 0.5273\n",
      "Epoch 41/50\n",
      "700/700 [==============================] - 5s - loss: 0.3494 - acc: 0.8043 - val_loss: 1.4033 - val_acc: 0.5455\n",
      "Epoch 42/50\n",
      "700/700 [==============================] - 5s - loss: 0.3381 - acc: 0.8000 - val_loss: 1.5289 - val_acc: 0.5091\n",
      "Epoch 43/50\n",
      "700/700 [==============================] - 5s - loss: 0.3371 - acc: 0.7900 - val_loss: 1.5338 - val_acc: 0.5455\n",
      "Epoch 44/50\n",
      "700/700 [==============================] - 4s - loss: 0.3415 - acc: 0.8029 - val_loss: 1.5636 - val_acc: 0.4909\n",
      "Epoch 45/50\n",
      "700/700 [==============================] - 4s - loss: 0.3412 - acc: 0.7986 - val_loss: 1.5521 - val_acc: 0.5091\n",
      "Epoch 46/50\n",
      "700/700 [==============================] - 5s - loss: 0.3220 - acc: 0.8171 - val_loss: 1.5811 - val_acc: 0.5273\n",
      "Epoch 47/50\n",
      "700/700 [==============================] - 4s - loss: 0.3364 - acc: 0.8000 - val_loss: 1.5847 - val_acc: 0.5091\n",
      "Epoch 48/50\n",
      "700/700 [==============================] - 5s - loss: 0.3498 - acc: 0.7943 - val_loss: 1.5386 - val_acc: 0.4909\n",
      "Epoch 49/50\n",
      "700/700 [==============================] - 5s - loss: 0.3205 - acc: 0.8186 - val_loss: 1.5531 - val_acc: 0.5455\n",
      "Epoch 50/50\n",
      "700/700 [==============================] - 4s - loss: 0.3276 - acc: 0.8229 - val_loss: 1.5443 - val_acc: 0.5273\n"
     ]
    },
    {
     "data": {
      "text/plain": [
       "<keras.callbacks.History at 0x7fdd5c408780>"
      ]
     },
     "execution_count": 24,
     "metadata": {},
     "output_type": "execute_result"
    }
   ],
   "source": [
    "model.fit(x=[X_train_p[:700],X_train_n[:700]],y=Y_train[:700],batch_size=16, epochs=50,verbose=1,validation_data=([X_train_p[700:],X_train_n[700:]],Y_train[700:]))"
   ]
  },
  {
   "cell_type": "code",
   "execution_count": 31,
   "metadata": {},
   "outputs": [
    {
     "name": "stdout",
     "output_type": "stream",
     "text": [
      "231/231 [==============================] - 0s     \n"
     ]
    }
   ],
   "source": [
    "model.evaluate(x=[X_test_p,X_test_n],y=Y_test,batch_size=16)\n",
    "y_pre = model.predict(x=[X_test_p,X_test_n],batch_size=16)"
   ]
  },
  {
   "cell_type": "code",
   "execution_count": 41,
   "metadata": {},
   "outputs": [
    {
     "name": "stdout",
     "output_type": "stream",
     "text": [
      "(array([], dtype=int64),)\n"
     ]
    },
    {
     "name": "stderr",
     "output_type": "stream",
     "text": [
      "/home/beginner/anaconda3/envs/deeplearning/lib/python3.6/site-packages/ipykernel_launcher.py:1: DeprecationWarning: elementwise == comparison failed; this will raise an error in the future.\n",
      "  \"\"\"Entry point for launching an IPython kernel.\n"
     ]
    }
   ],
   "source": [
    "y_pre"
   ]
  },
  {
   "cell_type": "code",
   "execution_count": 25,
   "metadata": {
    "collapsed": true
   },
   "outputs": [],
   "source": [
    "import matplotlib.pyplot as plt"
   ]
  },
  {
   "cell_type": "code",
   "execution_count": 65,
   "metadata": {},
   "outputs": [],
   "source": [
    "g_open_raw = [item for item in prices['GOOGL']['open'].items()]\n",
    "g_open_x = []\n",
    "g_open_y = []\n",
    "for item in g_open_raw:\n",
    "    date = datetime.datetime.strptime(item[0],\"%Y-%m-%d\").strftime(\"%Y%m%d\")\n",
    "    if date in pv_test:\n",
    "        g_open_x.append(item[0])\n",
    "        g_open_y.append(item[1])"
   ]
  },
  {
   "cell_type": "code",
   "execution_count": 75,
   "metadata": {},
   "outputs": [
    {
     "data": {
      "text/plain": [
       "array([[  4.64662105e-01,   2.54220358e-05,   5.35312414e-01],\n",
       "       [  4.19032536e-02,   2.39225551e-06,   9.58094418e-01],\n",
       "       [  1.79691911e-01,   1.18760991e-05,   8.20296168e-01],\n",
       "       [  9.64720130e-01,   2.71951958e-05,   3.52527313e-02],\n",
       "       [  1.72034591e-01,   8.77495550e-05,   8.27877700e-01],\n",
       "       [  2.36052409e-01,   8.03108851e-05,   7.63867199e-01],\n",
       "       [  2.80024320e-01,   5.69082913e-05,   7.19918787e-01],\n",
       "       [  3.46359849e-01,   4.18614072e-05,   6.53598249e-01],\n",
       "       [  4.59546398e-04,   1.46632474e-05,   9.99525785e-01],\n",
       "       [  9.99093890e-01,   6.32679075e-07,   9.05484369e-04],\n",
       "       [  5.54093540e-01,   1.01992082e-05,   4.45896327e-01],\n",
       "       [  1.54156806e-02,   1.13034559e-06,   9.84583139e-01],\n",
       "       [  9.88056302e-01,   3.94462540e-06,   1.19398432e-02],\n",
       "       [  3.12650889e-01,   1.51265513e-05,   6.87333941e-01],\n",
       "       [  3.63055378e-01,   2.32589282e-05,   6.36921346e-01],\n",
       "       [  8.57684731e-01,   6.50269328e-07,   1.42314628e-01],\n",
       "       [  7.49071002e-01,   1.40347026e-06,   2.50927538e-01],\n",
       "       [  5.67601860e-01,   1.56550850e-05,   4.32382494e-01],\n",
       "       [  4.61192518e-01,   1.47927649e-05,   5.38792610e-01],\n",
       "       [  4.08196986e-01,   1.36175931e-05,   5.91789365e-01],\n",
       "       [  9.17272151e-01,   7.60109458e-07,   8.27270895e-02],\n",
       "       [  9.99403477e-01,   1.38017185e-07,   5.96422818e-04],\n",
       "       [  9.91054952e-01,   1.77471679e-06,   8.94334819e-03],\n",
       "       [  4.71370995e-01,   1.01381529e-05,   5.28618932e-01],\n",
       "       [  8.08768153e-01,   5.77121853e-07,   1.91231236e-01],\n",
       "       [  9.99949813e-01,   1.59867250e-06,   4.86791214e-05],\n",
       "       [  9.45165217e-01,   1.91995023e-05,   5.48156388e-02],\n",
       "       [  3.36003519e-04,   3.41618143e-05,   9.99629855e-01],\n",
       "       [  5.01825428e-03,   1.60008040e-05,   9.94965732e-01],\n",
       "       [  4.15104926e-01,   1.18557735e-04,   5.84776461e-01],\n",
       "       [  1.90872163e-01,   1.15351126e-04,   8.09012532e-01],\n",
       "       [  2.64767170e-01,   1.46974329e-04,   7.35085845e-01],\n",
       "       [  3.04459214e-01,   1.42692268e-04,   6.95398092e-01],\n",
       "       [  3.48439753e-01,   1.31651905e-04,   6.51428521e-01],\n",
       "       [  3.70383918e-01,   1.08492430e-04,   6.29507601e-01],\n",
       "       [  3.90133113e-01,   9.08043003e-05,   6.09776080e-01],\n",
       "       [  4.01630104e-01,   7.88845355e-05,   5.98291039e-01],\n",
       "       [  3.98435026e-01,   7.16416034e-05,   6.01493359e-01],\n",
       "       [  3.92697543e-01,   5.94896010e-05,   6.07242942e-01],\n",
       "       [  7.53953587e-04,   1.14545910e-05,   9.99234557e-01],\n",
       "       [  7.38176405e-01,   1.35820490e-04,   2.61687815e-01],\n",
       "       [  8.83529305e-01,   1.97865284e-05,   1.16450913e-01],\n",
       "       [  4.44829792e-01,   2.36032265e-05,   5.55146635e-01],\n",
       "       [  4.54561591e-01,   3.78174373e-05,   5.45400620e-01],\n",
       "       [  4.16919217e-03,   4.89083459e-06,   9.95825887e-01],\n",
       "       [  9.61114883e-01,   3.92641450e-05,   3.88458446e-02],\n",
       "       [  4.15618479e-01,   6.43815583e-05,   5.84317088e-01],\n",
       "       [  2.41865709e-01,   8.62483503e-05,   7.58048058e-01],\n",
       "       [  1.06151454e-01,   6.72998658e-06,   8.93841803e-01],\n",
       "       [  6.51784390e-02,   3.89514707e-06,   9.34817672e-01],\n",
       "       [  9.90993083e-01,   4.52788709e-06,   9.00243502e-03],\n",
       "       [  1.66224897e-01,   1.35430646e-05,   8.33761573e-01],\n",
       "       [  5.21040440e-01,   1.31018087e-05,   4.78946418e-01],\n",
       "       [  5.74404418e-01,   1.40030634e-05,   4.25581515e-01],\n",
       "       [  6.03498459e-01,   2.08060246e-05,   3.96480769e-01],\n",
       "       [  5.57533205e-01,   3.23773711e-05,   4.42434460e-01],\n",
       "       [  5.13014197e-01,   4.60069532e-05,   4.86939847e-01],\n",
       "       [  3.04381712e-03,   5.16084174e-06,   9.96950984e-01],\n",
       "       [  9.98285472e-01,   5.63455160e-06,   1.70894514e-03],\n",
       "       [  8.86016726e-01,   1.45229542e-05,   1.13968648e-01],\n",
       "       [  4.06356342e-02,   1.10327883e-05,   9.59353387e-01],\n",
       "       [  5.66302158e-04,   8.66110167e-06,   9.99425054e-01],\n",
       "       [  6.71437740e-01,   1.76572430e-04,   3.28385711e-01],\n",
       "       [  8.71511281e-01,   6.80889862e-05,   1.28420666e-01],\n",
       "       [  1.47812039e-01,   1.21409044e-04,   8.52066576e-01],\n",
       "       [  3.00120711e-01,   1.56359412e-04,   6.99722946e-01],\n",
       "       [  1.38439809e-03,   6.84019506e-06,   9.98608768e-01],\n",
       "       [  9.99729812e-01,   1.09741513e-05,   2.59219407e-04],\n",
       "       [  9.40608144e-01,   6.42785526e-05,   5.93276098e-02],\n",
       "       [  3.55125614e-03,   1.58139974e-05,   9.96432900e-01],\n",
       "       [  9.28764045e-01,   7.43031633e-05,   7.11616576e-02],\n",
       "       [  3.14664453e-01,   9.26595094e-05,   6.85242832e-01],\n",
       "       [  1.38325128e-03,   6.95712288e-06,   9.98609781e-01],\n",
       "       [  9.38387990e-01,   7.07077634e-05,   6.15412481e-02],\n",
       "       [  6.53929710e-01,   4.53684952e-05,   3.46024960e-01],\n",
       "       [  7.92652443e-02,   2.27023847e-05,   9.20711994e-01],\n",
       "       [  9.99328017e-01,   1.68720703e-07,   6.71932939e-04],\n",
       "       [  3.15067940e-04,   6.68180746e-07,   9.99684334e-01],\n",
       "       [  9.83755171e-01,   3.23579138e-06,   1.62416082e-02],\n",
       "       [  8.31825733e-01,   3.27858629e-06,   1.68171033e-01],\n",
       "       [  4.25526174e-03,   1.84555313e-06,   9.95742857e-01],\n",
       "       [  2.87903398e-01,   3.89881861e-05,   7.12057650e-01],\n",
       "       [  3.08581591e-01,   6.21317304e-05,   6.91356361e-01],\n",
       "       [  3.02545398e-01,   1.97575617e-04,   6.97257042e-01],\n",
       "       [  2.73400545e-01,   2.51222547e-04,   7.26348281e-01],\n",
       "       [  3.11168522e-01,   2.58823915e-04,   6.88572645e-01],\n",
       "       [  3.09994787e-01,   2.34737963e-04,   6.89770520e-01],\n",
       "       [  9.02819812e-01,   4.70105169e-06,   9.71755013e-02],\n",
       "       [  4.59429085e-01,   2.25196145e-05,   5.40548384e-01],\n",
       "       [  5.36672652e-01,   1.27958410e-04,   4.63199377e-01],\n",
       "       [  6.99890330e-02,   6.07574948e-05,   9.29950178e-01],\n",
       "       [  9.65561032e-01,   3.03422421e-05,   3.44085321e-02],\n",
       "       [  9.99892950e-01,   2.45423889e-05,   8.24355229e-05],\n",
       "       [  9.59357247e-02,   2.31102284e-04,   9.03833210e-01],\n",
       "       [  9.16372061e-01,   1.28007532e-05,   8.36152285e-02],\n",
       "       [  1.12577811e-01,   9.86165014e-06,   8.87412369e-01],\n",
       "       [  3.29932690e-01,   2.32068833e-05,   6.70044124e-01],\n",
       "       [  4.95859189e-03,   5.73524267e-06,   9.95035648e-01],\n",
       "       [  9.65774119e-01,   3.11715667e-05,   3.41946185e-02],\n",
       "       [  5.88840961e-01,   5.05352982e-05,   4.11108494e-01],\n",
       "       [  1.01087041e-01,   2.93788344e-05,   8.98883581e-01],\n",
       "       [  3.76058340e-01,   3.69099616e-05,   6.23904705e-01],\n",
       "       [  4.14300054e-01,   3.03741635e-05,   5.85669518e-01],\n",
       "       [  9.80575979e-01,   2.07090892e-07,   1.94237996e-02],\n",
       "       [  9.99390960e-01,   1.25043940e-07,   6.08965871e-04],\n",
       "       [  3.88920724e-01,   2.21127957e-05,   6.11057222e-01],\n",
       "       [  3.02498847e-01,   5.14206331e-05,   6.97449803e-01],\n",
       "       [  9.63803887e-01,   9.85651468e-07,   3.61950509e-02],\n",
       "       [  2.77450643e-02,   1.67273743e-06,   9.72253263e-01],\n",
       "       [  8.21146548e-01,   1.71699812e-05,   1.78836331e-01],\n",
       "       [  3.89541030e-01,   2.56560106e-05,   6.10433340e-01],\n",
       "       [  6.56799674e-01,   1.13231272e-06,   3.43199223e-01],\n",
       "       [  6.07009351e-01,   1.29568007e-05,   3.92977655e-01],\n",
       "       [  1.27607360e-01,   1.49067555e-05,   8.72377753e-01],\n",
       "       [  4.62976158e-01,   2.13685871e-05,   5.37002444e-01],\n",
       "       [  3.89798939e-01,   2.36706619e-05,   6.10177338e-01],\n",
       "       [  4.12964106e-01,   2.68475396e-05,   5.87009132e-01],\n",
       "       [  9.43993151e-01,   7.31436103e-07,   5.60061485e-02],\n",
       "       [  1.18090227e-01,   3.76205389e-06,   8.81906033e-01],\n",
       "       [  9.37745690e-01,   1.00031048e-05,   6.22443669e-02],\n",
       "       [  3.78566444e-01,   1.65858746e-05,   6.21416926e-01],\n",
       "       [  3.63594770e-01,   1.77611346e-05,   6.36387527e-01],\n",
       "       [  4.53510493e-01,   1.93964242e-05,   5.46470165e-01],\n",
       "       [  6.53125122e-02,   3.11471081e-06,   9.34684336e-01],\n",
       "       [  9.89421785e-01,   9.57116936e-06,   1.05686365e-02],\n",
       "       [  3.38485032e-01,   7.16074428e-05,   6.61443293e-01],\n",
       "       [  3.38644028e-01,   1.24629441e-04,   6.61231399e-01],\n",
       "       [  3.35940212e-01,   1.68607454e-04,   6.63891196e-01],\n",
       "       [  3.15439075e-01,   1.73518536e-04,   6.84387386e-01],\n",
       "       [  1.52730132e-02,   5.21837046e-06,   9.84721720e-01],\n",
       "       [  9.80267286e-01,   2.58145192e-05,   1.97069310e-02],\n",
       "       [  5.95973372e-01,   1.08035292e-05,   4.04015779e-01],\n",
       "       [  3.93907316e-02,   1.75405312e-05,   9.60591674e-01],\n",
       "       [  4.79733557e-01,   4.41490811e-05,   5.20222247e-01],\n",
       "       [  2.67113615e-02,   2.24242694e-06,   9.73286450e-01],\n",
       "       [  9.99690771e-01,   3.47596625e-07,   3.08944436e-04],\n",
       "       [  1.64749171e-03,   1.66998495e-06,   9.98350859e-01],\n",
       "       [  9.82594073e-01,   4.05842366e-06,   1.74018703e-02],\n",
       "       [  2.67847210e-01,   8.15125532e-06,   7.32144654e-01],\n",
       "       [  1.55573294e-01,   1.21856124e-06,   8.44425499e-01],\n",
       "       [  9.99924660e-01,   1.42827930e-05,   6.09816852e-05],\n",
       "       [  9.98733342e-01,   5.06923379e-06,   1.26156269e-03],\n",
       "       [  9.49793458e-01,   2.25237227e-06,   5.02043366e-02],\n",
       "       [  5.97177166e-03,   3.04997729e-06,   9.94025171e-01],\n",
       "       [  1.83963448e-01,   1.52090442e-05,   8.16021323e-01],\n",
       "       [  4.29656804e-01,   2.56886960e-05,   5.70317447e-01],\n",
       "       [  4.45697486e-01,   2.43955055e-05,   5.54278135e-01],\n",
       "       [  4.74316657e-01,   2.61562145e-05,   5.25657117e-01],\n",
       "       [  4.73800480e-01,   3.35033728e-05,   5.26166022e-01],\n",
       "       [  4.41176623e-01,   4.13707494e-05,   5.58781981e-01],\n",
       "       [  4.01605576e-01,   4.56923772e-05,   5.98348796e-01],\n",
       "       [  3.59566152e-01,   5.95798956e-05,   6.40374243e-01],\n",
       "       [  3.31153989e-01,   6.37348712e-05,   6.68782234e-01],\n",
       "       [  3.32546532e-01,   5.50497280e-05,   6.67398393e-01],\n",
       "       [  3.56174976e-01,   4.58705435e-05,   6.43779099e-01],\n",
       "       [  1.56943370e-02,   3.19794458e-06,   9.84302521e-01],\n",
       "       [  9.78722513e-01,   9.74482373e-06,   2.12676600e-02],\n",
       "       [  2.89256901e-01,   2.86718387e-05,   7.10714459e-01],\n",
       "       [  2.73303688e-01,   2.64224564e-05,   7.26669967e-01],\n",
       "       [  4.57484037e-01,   7.55459623e-05,   5.42440414e-01],\n",
       "       [  4.60891157e-01,   1.21422359e-04,   5.38987398e-01],\n",
       "       [  4.12208766e-01,   1.72294080e-04,   5.87618947e-01],\n",
       "       [  3.68989438e-01,   2.58501183e-04,   6.30752087e-01],\n",
       "       [  9.99683142e-01,   2.35329808e-05,   2.93390563e-04],\n",
       "       [  3.75537612e-02,   6.93386173e-05,   9.62376893e-01],\n",
       "       [  4.43949521e-01,   1.44772697e-04,   5.55905700e-01],\n",
       "       [  1.41262088e-03,   9.42999122e-06,   9.98577952e-01],\n",
       "       [  9.08020556e-01,   4.73063774e-05,   9.19321775e-02],\n",
       "       [  4.91716946e-03,   4.71214526e-06,   9.95078087e-01],\n",
       "       [  4.59384859e-01,   1.71474039e-05,   5.40597975e-01],\n",
       "       [  5.64625204e-01,   1.35771070e-05,   4.35361236e-01],\n",
       "       [  5.99413574e-01,   1.43839343e-05,   4.00572091e-01],\n",
       "       [  5.90721726e-01,   2.00092290e-05,   4.09258306e-01],\n",
       "       [  5.26835322e-01,   4.80633171e-05,   4.73116666e-01],\n",
       "       [  4.40342605e-01,   1.10190143e-04,   5.59547186e-01],\n",
       "       [  3.62374246e-01,   1.93182190e-04,   6.37432635e-01],\n",
       "       [  4.57698392e-04,   7.15343340e-05,   9.99470770e-01],\n",
       "       [  3.21595490e-01,   1.02816254e-03,   6.77376330e-01],\n",
       "       [  2.51064003e-01,   2.09665115e-04,   7.48726368e-01],\n",
       "       [  3.29048723e-01,   1.22875746e-04,   6.70828402e-01],\n",
       "       [  4.11079139e-01,   1.24085709e-04,   5.88796735e-01],\n",
       "       [  4.54434305e-01,   1.41440556e-04,   5.45424223e-01],\n",
       "       [  4.25875634e-01,   1.58170020e-04,   5.73966205e-01],\n",
       "       [  8.36375415e-01,   2.13892849e-06,   1.63622499e-01],\n",
       "       [  2.04467055e-04,   1.08604636e-05,   9.99784648e-01],\n",
       "       [  8.65368426e-01,   3.24992085e-04,   1.34306639e-01],\n",
       "       [  9.09068346e-01,   7.80845876e-05,   9.08534825e-02],\n",
       "       [  3.12143322e-02,   6.39015198e-05,   9.68721747e-01],\n",
       "       [  2.88332701e-01,   8.17823093e-05,   7.11585522e-01],\n",
       "       [  3.22033882e-01,   4.50360567e-05,   6.77921116e-01],\n",
       "       [  3.49645317e-01,   3.43130632e-05,   6.50320351e-01],\n",
       "       [  3.95596325e-01,   2.52045702e-05,   6.04378402e-01],\n",
       "       [  4.72943127e-01,   1.99386195e-05,   5.27036905e-01],\n",
       "       [  8.45009740e-03,   2.24678411e-06,   9.91547644e-01],\n",
       "       [  6.35607541e-01,   6.00064914e-06,   3.64386469e-01],\n",
       "       [  9.89528239e-01,   4.85279133e-06,   1.04669118e-02],\n",
       "       [  6.87590688e-02,   1.24992439e-05,   9.31228399e-01],\n",
       "       [  4.70160842e-02,   4.05218998e-06,   9.52979863e-01],\n",
       "       [  2.44900316e-01,   3.65253472e-05,   7.55063117e-01],\n",
       "       [  7.79103138e-05,   1.48858380e-04,   9.99773204e-01],\n",
       "       [  4.36766678e-03,   2.52593658e-04,   9.95379806e-01],\n",
       "       [  1.44392818e-01,   4.13353817e-04,   8.55193794e-01],\n",
       "       [  1.94369478e-03,   3.80234960e-05,   9.98018265e-01],\n",
       "       [  7.91077735e-04,   9.70631954e-05,   9.99111831e-01],\n",
       "       [  1.27384216e-01,   3.95228999e-04,   8.72220516e-01],\n",
       "       [  7.75077343e-01,   1.60307769e-04,   2.24762335e-01],\n",
       "       [  9.99236345e-01,   1.41388118e-05,   7.49460771e-04],\n",
       "       [  9.24682438e-01,   2.54422521e-05,   7.52921253e-02],\n",
       "       [  5.66803455e-01,   2.97214792e-05,   4.33166802e-01],\n",
       "       [  9.99214530e-01,   1.08843244e-06,   7.84373900e-04],\n",
       "       [  2.08412215e-01,   2.73211281e-05,   7.91560471e-01],\n",
       "       [  1.83834895e-01,   3.15857251e-05,   8.16133499e-01],\n",
       "       [  1.24416940e-04,   2.46537438e-05,   9.99850869e-01],\n",
       "       [  9.78801697e-02,   6.17755650e-05,   9.02058065e-01],\n",
       "       [  2.23030671e-01,   7.63290445e-05,   7.76893020e-01],\n",
       "       [  8.68447423e-01,   2.27555847e-06,   1.31550282e-01],\n",
       "       [  2.38883600e-04,   5.51721314e-06,   9.99755561e-01],\n",
       "       [  7.58852422e-01,   9.87194217e-05,   2.41048917e-01],\n",
       "       [  4.72102821e-01,   3.45648259e-05,   5.27862608e-01],\n",
       "       [  4.08505410e-01,   3.56649252e-05,   5.91458917e-01],\n",
       "       [  4.44781363e-01,   4.62518292e-05,   5.55172384e-01],\n",
       "       [  4.76517916e-01,   4.10927132e-05,   5.23440957e-01],\n",
       "       [  2.61997320e-02,   8.06799744e-06,   9.73792195e-01],\n",
       "       [  2.16352165e-01,   4.56178750e-05,   7.83602178e-01],\n",
       "       [  3.32862616e-01,   4.74995795e-05,   6.67089880e-01],\n",
       "       [  3.97062719e-01,   5.60424924e-05,   6.02881253e-01],\n",
       "       [  4.29389209e-01,   6.90279776e-05,   5.70541739e-01],\n",
       "       [  4.11699623e-01,   8.35406172e-05,   5.88216901e-01],\n",
       "       [  9.92634714e-01,   8.82713380e-07,   7.36451242e-03],\n",
       "       [  6.19844417e-04,   3.06500124e-06,   9.99377072e-01],\n",
       "       [  9.83144403e-01,   1.91917770e-05,   1.68363638e-02]], dtype=float32)"
      ]
     },
     "execution_count": 75,
     "metadata": {},
     "output_type": "execute_result"
    }
   ],
   "source": []
  },
  {
   "cell_type": "code",
   "execution_count": 82,
   "metadata": {},
   "outputs": [
    {
     "data": {
      "image/png": "[encoded data removed]",
      "text/plain": [
       "<matplotlib.figure.Figure at 0x7fdcc9aa1048>"
      ]
     },
     "metadata": {},
     "output_type": "display_data"
    }
   ],
   "source": [
    "plt.figure(figsize = (18,9))\n",
    "plt.plot(range(0,len(g_open_y)),g_open_y)\n",
    "plt.xticks(range(0,len(g_open_x),30),g_open_x[::30])\n",
    "plt.xlabel('Date',fontsize=18)\n",
    "plt.ylabel('Open Price',fontsize=18)\n",
    "for i in range(0,len(y_pre)):\n",
    "    a,b,c = y_pre[i]\n",
    "    if a>=b and a>c:\n",
    "        plt.scatter(i,g_open_y[i],color='g',marker='o')\n",
    "    elif c>a and c>=b:\n",
    "        plt.scatter(i,g_open_y[i],color='r',marker='o')\n",
    "    else:\n",
    "        plt.scatter(i,g_open_y[i],color='y',marker='*') \n",
    "plt.show()"
   ]
  },
  {
   "cell_type": "code",
   "execution_count": null,
   "metadata": {
    "collapsed": true
   },
   "outputs": [],
   "source": []
  }
 ],
 "metadata": {
  "kernelspec": {
   "display_name": "deeplearning",
   "language": "python",
   "name": "deeplearning"
  },
  "language_info": {
   "codemirror_mode": {
    "name": "ipython",
    "version": 3
   },
   "file_extension": ".py",
   "mimetype": "text/x-python",
   "name": "python",
   "nbconvert_exporter": "python",
   "pygments_lexer": "ipython3",
   "version": "3.6.2"
  }
 },
 "nbformat": 4,
 "nbformat_minor": 2
}
