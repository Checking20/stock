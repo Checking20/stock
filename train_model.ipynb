{
 "cells": [
  {
   "cell_type": "code",
   "execution_count": null,
   "metadata": {},
   "outputs": [],
   "source": [
    "from keras.callbacks import TensorBoard\n",
    "from keras import backend as K\n",
    "import pandas as pd\n",
    "import numpy as np\n",
    "import scipy\n",
    "import sys\n",
    "import imp"
   ]
  },
  {
   "cell_type": "code",
   "execution_count": null,
   "metadata": {},
   "outputs": [],
   "source": [
    "from process_data import load_data,get_rank_of_size\n",
    "from data_util import unpack_news_data,data_generator\n",
    "import models\n",
    "import callbacks\n",
    "imp.reload(models)\n",
    "imp.reload(callbacks)"
   ]
  },
  {
   "cell_type": "code",
   "execution_count": null,
   "metadata": {
    "collapsed": true
   },
   "outputs": [],
   "source": [
    "rank = get_rank_of_size()\n",
    "rank.remove('XOM')\n",
    "rank.remove('GOOG')"
   ]
  },
  {
   "cell_type": "code",
   "execution_count": null,
   "metadata": {},
   "outputs": [],
   "source": [
    "data = load_data(rank[:20],encoder_kind='Glove')"
   ]
  },
  {
   "cell_type": "code",
   "execution_count": null,
   "metadata": {
    "collapsed": true
   },
   "outputs": [],
   "source": [
    "b_size = 64\n",
    "x1_train = np.concatenate([data[key]['train'][0] for key in data],axis=0)\n",
    "x2_train = np.concatenate([data[key]['train'][1] for key in data],axis=0)\n",
    "x1_val = unpack_news_data(np.concatenate([data[key]['val'][0] for key in data],axis=0))\n",
    "x2_val = np.concatenate([data[key]['val'][1] for key in data],axis=0)\n",
    "y_val = np.concatenate([data[key]['val'][2] for key in data],axis=0)\n",
    "y_train = np.concatenate([data[key]['train'][2] for key in data],axis=0)\n",
    "cbs = [TensorBoard(log_dir='model_log/qqq/')]\n",
    "steps = (len(x1_train)+b_size-1)//b_size"
   ]
  },
  {
   "cell_type": "code",
   "execution_count": null,
   "metadata": {},
   "outputs": [],
   "source": [
    "h_5_g = models.build_hybrid_model(300)\n",
    "h_5_g.fit_generator(generator=data_generator(b_size,(x1_train,x2_train,y_train),unpack_news_data),\n",
    "                    samples_per_epoch=steps,\n",
    "                    validation_data=([x1_val,x2_val],y_val),\n",
    "                    callbacks = cbs,\n",
    "                    epochs=5,\n",
    "                    verbose=1,\n",
    "                   )\n",
    "h_5_g.save('model/h_5_g.h5')\n",
    "K.clear_session()"
   ]
  },
  {
   "cell_type": "code",
   "execution_count": null,
   "metadata": {},
   "outputs": [],
   "source": [
    "h_10_g = models.build_hybrid_model(300)\n",
    "h_10_g.fit_generator(generator=data_generator(b_size,(x1_train,x2_train,y_train),unpack_news_data),\n",
    "                    samples_per_epoch=steps,\n",
    "                    validation_data=([x1_val,x2_val],y_val),\n",
    "                    callbacks = cbs,\n",
    "                    epochs=10,\n",
    "                    verbose=1,\n",
    "                   )\n",
    "h_10_g.save('model/h_10_g.h5')\n",
    "K.clear_session()"
   ]
  },
  {
   "cell_type": "code",
   "execution_count": null,
   "metadata": {},
   "outputs": [],
   "source": [
    "h_15_g = models.build_hybrid_model(300)\n",
    "h_15_g.fit_generator(generator=data_generator(b_size,(x1_train,x2_train,y_train),unpack_news_data),\n",
    "                    samples_per_epoch=steps,\n",
    "                    validation_data=([x1_val,x2_val],y_val),\n",
    "                    callbacks = cbs,\n",
    "                    epochs=15,\n",
    "                    verbose=1,\n",
    "                   )\n",
    "h_15_g.save('model/h_15_g.h5')\n",
    "K.clear_session()"
   ]
  },
  {
   "cell_type": "code",
   "execution_count": null,
   "metadata": {
    "collapsed": true
   },
   "outputs": [],
   "source": [
    "t_5 = models.build_textual_model()\n",
    "t_5.fit_generator(generator=data_generator(b_size,(x1_train,y_train),unpack_news_data),\n",
    "                    samples_per_epoch=steps,\n",
    "                    validation_data=(x1_val,y_val),\n",
    "                    callbacks = cbs,\n",
    "                    epochs=5,\n",
    "                    verbose=1,\n",
    "                   )\n",
    "t_5.save('model/t_5.h5')\n",
    "K.clear_session()"
   ]
  },
  {
   "cell_type": "code",
   "execution_count": null,
   "metadata": {
    "collapsed": true
   },
   "outputs": [],
   "source": [
    "t_10 = models.build_textual_model()\n",
    "t_10.fit_generator(generator=data_generator(b_size,(x1_train,y_train),unpack_news_data),\n",
    "                    samples_per_epoch=steps,\n",
    "                    validation_data=(x1_val,y_val),\n",
    "                    callbacks = cbs,\n",
    "                    epochs=10,\n",
    "                    verbose=1,\n",
    "                   )\n",
    "t_10.save('model/t_10.h5')\n",
    "K.clear_session()"
   ]
  },
  {
   "cell_type": "code",
   "execution_count": null,
   "metadata": {
    "collapsed": true
   },
   "outputs": [],
   "source": [
    "t_15 = models.build_textual_model()\n",
    "t_15.fit_generator(generator=data_generator(b_size,(x1_train,y_train),unpack_news_data),\n",
    "                    samples_per_epoch=steps,\n",
    "                    validation_data=(x1_val,y_val),\n",
    "                    callbacks = cbs,\n",
    "                    epochs=15,\n",
    "                    verbose=1,\n",
    "                   )\n",
    "t_15.save('model/t_15.h5')\n",
    "K.clear_session()"
   ]
  },
  {
   "cell_type": "code",
   "execution_count": null,
   "metadata": {
    "collapsed": true
   },
   "outputs": [],
   "source": [
    "n_5 = models.build_numerical_model()\n",
    "n_5.fit_generator(generator=data_generator(b_size,(x2_train,y_train)),\n",
    "                    samples_per_epoch=steps,\n",
    "                    validation_data=(x2_val,y_val),\n",
    "                    callbacks = cbs,\n",
    "                    epochs = 5,\n",
    "                    verbose=1,\n",
    "                   )\n",
    "n_5.save('model/n_5.h5')\n",
    "K.clear_session()"
   ]
  },
  {
   "cell_type": "code",
   "execution_count": null,
   "metadata": {
    "collapsed": true
   },
   "outputs": [],
   "source": [
    "n_10 = models.build_numerical_model()\n",
    "n_10.fit_generator(generator=data_generator(b_size,(x2_train,y_train)),\n",
    "                    samples_per_epoch=steps,\n",
    "                    validation_data=(x2_val,y_val),\n",
    "                    callbacks = cbs,\n",
    "                    epochs = 10,\n",
    "                    verbose=1,\n",
    "                   )\n",
    "n_10.save('model/n_10.h5')\n",
    "K.clear_session()"
   ]
  },
  {
   "cell_type": "code",
   "execution_count": null,
   "metadata": {
    "collapsed": true
   },
   "outputs": [],
   "source": [
    "n_15 = models.build_numerical_model()\n",
    "n_15.fit_generator(generator=data_generator(b_size,(x2_train,y_train)),\n",
    "                    samples_per_epoch=steps,\n",
    "                    validation_data=(x2_val,y_val),\n",
    "                    callbacks = cbs,\n",
    "                    epochs = 15,\n",
    "                    verbose=1,\n",
    "                   )\n",
    "n_15.save('model/n_15.h5')\n",
    "K.clear_session()"
   ]
  },
  {
   "cell_type": "code",
   "execution_count": null,
   "metadata": {
    "collapsed": true
   },
   "outputs": [],
   "source": [
    "n_20 = models.build_numerical_model()\n",
    "n_20.fit_generator(generator=data_generator(b_size,(x2_train,y_train)),\n",
    "                    samples_per_epoch=steps,\n",
    "                    validation_data=(x2_val,y_val),\n",
    "                    callbacks = cbs,\n",
    "                    epochs = 20,\n",
    "                    verbose=1,\n",
    "                   )\n",
    "n_20.save('model/n_20.h5')\n",
    "K.clear_session()"
   ]
  },
  {
   "cell_type": "code",
   "execution_count": null,
   "metadata": {
    "collapsed": true
   },
   "outputs": [],
   "source": [
    "h_5 = models.build_hybrid_model()\n",
    "h_5.fit_generator(generator=data_generator(b_size,(x1_train,x2_train,y_train),unpack_news_data),\n",
    "                    samples_per_epoch=steps,\n",
    "                    validation_data=([x1_val,x2_val],y_val),\n",
    "                    callbacks = cbs,\n",
    "                    epochs=5,\n",
    "                    verbose=1,\n",
    "                   )\n",
    "h_5.save('model/h_5.h5')\n",
    "K.clear_session()"
   ]
  },
  {
   "cell_type": "code",
   "execution_count": null,
   "metadata": {
    "collapsed": true
   },
   "outputs": [],
   "source": [
    "h_10 = models.build_hybrid_model()\n",
    "h_10.fit_generator(generator=data_generator(b_size,(x1_train,x2_train,y_train),unpack_news_data),\n",
    "                    samples_per_epoch=steps,\n",
    "                    validation_data=([x1_val,x2_val],y_val),\n",
    "                    callbacks = cbs,\n",
    "                    epochs=10,\n",
    "                    verbose=1,\n",
    "                   )\n",
    "h_10.save('model/h_10.h5')\n",
    "K.clear_session()"
   ]
  },
  {
   "cell_type": "code",
   "execution_count": null,
   "metadata": {
    "collapsed": true
   },
   "outputs": [],
   "source": [
    "h_15 = models.build_hybrid_model()\n",
    "h_15.fit_generator(generator=data_generator(b_size,(x1_train,x2_train,y_train),unpack_news_data),\n",
    "                    samples_per_epoch=steps,\n",
    "                    validation_data=([x1_val,x2_val],y_val),\n",
    "                    callbacks = cbs,\n",
    "                    epochs=15,\n",
    "                    verbose=1,\n",
    "                   )\n",
    "h_15.save('model/h_15.h5')\n",
    "K.clear_session()"
   ]
  }
 ],
 "metadata": {
  "kernelspec": {
   "display_name": "deeplearning",
   "language": "python",
   "name": "deeplearning"
  },
  "language_info": {
   "codemirror_mode": {
    "name": "ipython",
    "version": 3
   },
   "file_extension": ".py",
   "mimetype": "text/x-python",
   "name": "python",
   "nbconvert_exporter": "python",
   "pygments_lexer": "ipython3",
   "version": "3.6.2"
  }
 },
 "nbformat": 4,
 "nbformat_minor": 2
}
