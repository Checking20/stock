{
 "cells": [
  {
   "cell_type": "code",
   "execution_count": 1,
   "metadata": {},
   "outputs": [
    {
     "name": "stderr",
     "output_type": "stream",
     "text": [
      "Using TensorFlow backend.\n"
     ]
    }
   ],
   "source": [
    "from keras.callbacks import TensorBoard\n",
    "from keras import backend as K\n",
    "import pandas as pd\n",
    "import numpy as np\n",
    "import scipy\n",
    "import sys\n",
    "import imp"
   ]
  },
  {
   "cell_type": "code",
   "execution_count": 2,
   "metadata": {},
   "outputs": [
    {
     "data": {
      "text/plain": [
       "<module 'callbacks' from '/home/beginner/code/stock/callbacks.py'>"
      ]
     },
     "execution_count": 2,
     "metadata": {},
     "output_type": "execute_result"
    }
   ],
   "source": [
    "from process_data import load_data,get_rank_of_size\n",
    "from data_util import unpack_news_data,data_generator\n",
    "import models\n",
    "import callbacks\n",
    "imp.reload(models)\n",
    "imp.reload(callbacks)"
   ]
  },
  {
   "cell_type": "code",
   "execution_count": 3,
   "metadata": {
    "collapsed": true
   },
   "outputs": [],
   "source": [
    "rank = get_rank_of_size()\n",
    "rank.remove('XOM')\n",
    "rank.remove('GOOG')"
   ]
  },
  {
   "cell_type": "code",
   "execution_count": 4,
   "metadata": {},
   "outputs": [
    {
     "name": "stdout",
     "output_type": "stream",
     "text": [
      "data of FB is loaded\n",
      "data of AAPL is loaded\n",
      "data of GOOGL is loaded\n",
      "data of AMZN is loaded\n",
      "data of BAC is loaded\n",
      "data of JPM is loaded\n",
      "data of MSFT is loaded\n",
      "data of C is loaded\n",
      "data of WFC is loaded\n",
      "data of TSLA is loaded\n",
      "data of GE is loaded\n",
      "data of TWTR is loaded\n",
      "data of BABA is loaded\n",
      "data of INTC is loaded\n",
      "data of WMT is loaded\n",
      "data of IBM is loaded\n",
      "data of CVX is loaded\n",
      "data of VZ is loaded\n",
      "data of T is loaded\n",
      "data of DIS is loaded\n"
     ]
    }
   ],
   "source": [
    "data = load_data(rank[:20],encoder_kind='Glove')"
   ]
  },
  {
   "cell_type": "code",
   "execution_count": 5,
   "metadata": {
    "collapsed": true
   },
   "outputs": [],
   "source": [
    "b_size = 64\n",
    "x1_train = np.concatenate([data[key]['train'][0] for key in data],axis=0)\n",
    "x2_train = np.concatenate([data[key]['train'][1] for key in data],axis=0)\n",
    "x1_val = unpack_news_data(np.concatenate([data[key]['val'][0] for key in data],axis=0))\n",
    "x2_val = np.concatenate([data[key]['val'][1] for key in data],axis=0)\n",
    "y_val = np.concatenate([data[key]['val'][2] for key in data],axis=0)\n",
    "y_train = np.concatenate([data[key]['train'][2] for key in data],axis=0)\n",
    "cbs = [TensorBoard(log_dir='model_log/qqq/')]\n",
    "steps = (len(x1_train)+b_size-1)//b_size"
   ]
  },
  {
   "cell_type": "code",
   "execution_count": 8,
   "metadata": {},
   "outputs": [
    {
     "name": "stderr",
     "output_type": "stream",
     "text": [
      "/home/beginner/anaconda3/envs/deeplearning/lib/python3.6/site-packages/ipykernel_launcher.py:7: UserWarning: Update your `fit_generator` call to the Keras 2 API: `fit_generator(generator=<generator..., validation_data=([array([[..., callbacks=[<keras.ca..., epochs=5, verbose=1, steps_per_epoch=356)`\n",
      "  import sys\n"
     ]
    },
    {
     "name": "stdout",
     "output_type": "stream",
     "text": [
      "Epoch 1/5\n",
      "356/356 [==============================] - 50s 140ms/step - loss: 0.6898 - acc: 0.5388 - val_loss: 0.7184 - val_acc: 0.3554\n",
      "Epoch 2/5\n",
      "356/356 [==============================] - 45s 128ms/step - loss: 0.6772 - acc: 0.5693 - val_loss: 0.6846 - val_acc: 0.5661\n",
      "Epoch 3/5\n",
      "356/356 [==============================] - 45s 128ms/step - loss: 0.6499 - acc: 0.6200 - val_loss: 0.8454 - val_acc: 0.4571\n",
      "Epoch 4/5\n",
      "356/356 [==============================] - 45s 128ms/step - loss: 0.6040 - acc: 0.6695 - val_loss: 0.7895 - val_acc: 0.5205\n",
      "Epoch 5/5\n",
      "356/356 [==============================] - 45s 128ms/step - loss: 0.5405 - acc: 0.7251 - val_loss: 0.8943 - val_acc: 0.5054\n"
     ]
    }
   ],
   "source": [
    "h_5_g = models.build_hybrid_model(300)\n",
    "h_5_g.fit_generator(generator=data_generator(b_size,(x1_train,x2_train,y_train),unpack_news_data),\n",
    "                    samples_per_epoch=steps,\n",
    "                    validation_data=([x1_val,x2_val],y_val),\n",
    "                    callbacks = cbs,\n",
    "                    epochs=5,\n",
    "                    verbose=1,\n",
    "                   )\n",
    "h_5_g.save('model/h_5_g.h5')\n",
    "K.clear_session()"
   ]
  },
  {
   "cell_type": "code",
   "execution_count": 9,
   "metadata": {},
   "outputs": [
    {
     "name": "stderr",
     "output_type": "stream",
     "text": [
      "/home/beginner/anaconda3/envs/deeplearning/lib/python3.6/site-packages/ipykernel_launcher.py:7: UserWarning: Update your `fit_generator` call to the Keras 2 API: `fit_generator(generator=<generator..., validation_data=([array([[..., callbacks=[<keras.ca..., epochs=10, verbose=1, steps_per_epoch=356)`\n",
      "  import sys\n"
     ]
    },
    {
     "name": "stdout",
     "output_type": "stream",
     "text": [
      "Epoch 1/10\n",
      "356/356 [==============================] - 47s 132ms/step - loss: 0.6875 - acc: 0.5446 - val_loss: 0.7324 - val_acc: 0.4036\n",
      "Epoch 2/10\n",
      "356/356 [==============================] - 43s 120ms/step - loss: 0.6615 - acc: 0.5953 - val_loss: 0.8478 - val_acc: 0.3786\n",
      "Epoch 3/10\n",
      "356/356 [==============================] - 43s 120ms/step - loss: 0.5946 - acc: 0.6768 - val_loss: 1.2808 - val_acc: 0.3625\n",
      "Epoch 4/10\n",
      "356/356 [==============================] - 42s 119ms/step - loss: 0.5290 - acc: 0.7298 - val_loss: 0.8699 - val_acc: 0.4902\n",
      "Epoch 5/10\n",
      "356/356 [==============================] - 42s 119ms/step - loss: 0.4732 - acc: 0.7707 - val_loss: 1.0148 - val_acc: 0.4634\n",
      "Epoch 6/10\n",
      "356/356 [==============================] - 43s 120ms/step - loss: 0.4320 - acc: 0.7942 - val_loss: 1.1152 - val_acc: 0.4688\n",
      "Epoch 7/10\n",
      "356/356 [==============================] - 43s 119ms/step - loss: 0.4015 - acc: 0.8100 - val_loss: 1.2204 - val_acc: 0.4455\n",
      "Epoch 8/10\n",
      "356/356 [==============================] - 43s 119ms/step - loss: 0.3737 - acc: 0.8264 - val_loss: 1.1440 - val_acc: 0.4920\n",
      "Epoch 9/10\n",
      "356/356 [==============================] - 42s 119ms/step - loss: 0.3518 - acc: 0.8382 - val_loss: 1.4943 - val_acc: 0.4277\n",
      "Epoch 10/10\n",
      "356/356 [==============================] - 42s 119ms/step - loss: 0.3304 - acc: 0.8477 - val_loss: 1.1831 - val_acc: 0.4866\n"
     ]
    }
   ],
   "source": [
    "h_10_g = models.build_hybrid_model(300)\n",
    "h_10_g.fit_generator(generator=data_generator(b_size,(x1_train,x2_train,y_train),unpack_news_data),\n",
    "                    samples_per_epoch=steps,\n",
    "                    validation_data=([x1_val,x2_val],y_val),\n",
    "                    callbacks = cbs,\n",
    "                    epochs=10,\n",
    "                    verbose=1,\n",
    "                   )\n",
    "h_10_g.save('model/h_10_g.h5')\n",
    "K.clear_session()"
   ]
  },
  {
   "cell_type": "code",
   "execution_count": 10,
   "metadata": {},
   "outputs": [
    {
     "name": "stderr",
     "output_type": "stream",
     "text": [
      "/home/beginner/anaconda3/envs/deeplearning/lib/python3.6/site-packages/ipykernel_launcher.py:7: UserWarning: Update your `fit_generator` call to the Keras 2 API: `fit_generator(generator=<generator..., validation_data=([array([[..., callbacks=[<keras.ca..., epochs=15, verbose=1, steps_per_epoch=356)`\n",
      "  import sys\n"
     ]
    },
    {
     "name": "stdout",
     "output_type": "stream",
     "text": [
      "Epoch 1/15\n",
      "356/356 [==============================] - 45s 126ms/step - loss: 0.6881 - acc: 0.5404 - val_loss: 0.7350 - val_acc: 0.3830\n",
      "Epoch 2/15\n",
      "356/356 [==============================] - 44s 125ms/step - loss: 0.6667 - acc: 0.5912 - val_loss: 0.7439 - val_acc: 0.4473\n",
      "Epoch 3/15\n",
      "356/356 [==============================] - 44s 124ms/step - loss: 0.5965 - acc: 0.6745 - val_loss: 1.0262 - val_acc: 0.4313\n",
      "Epoch 4/15\n",
      "356/356 [==============================] - 44s 125ms/step - loss: 0.5214 - acc: 0.7354 - val_loss: 1.0411 - val_acc: 0.4402\n",
      "Epoch 5/15\n",
      "356/356 [==============================] - 44s 125ms/step - loss: 0.4679 - acc: 0.7743 - val_loss: 0.8887 - val_acc: 0.5339\n",
      "Epoch 6/15\n",
      "356/356 [==============================] - 44s 125ms/step - loss: 0.4192 - acc: 0.8010 - val_loss: 1.1521 - val_acc: 0.4830\n",
      "Epoch 7/15\n",
      "356/356 [==============================] - 45s 125ms/step - loss: 0.3887 - acc: 0.8185 - val_loss: 1.5640 - val_acc: 0.4188\n",
      "Epoch 8/15\n",
      "356/356 [==============================] - 44s 124ms/step - loss: 0.3680 - acc: 0.8296 - val_loss: 1.1260 - val_acc: 0.5116\n",
      "Epoch 9/15\n",
      "356/356 [==============================] - 44s 125ms/step - loss: 0.3459 - acc: 0.8385 - val_loss: 1.2869 - val_acc: 0.4768\n",
      "Epoch 10/15\n",
      "356/356 [==============================] - 44s 125ms/step - loss: 0.3232 - acc: 0.8499 - val_loss: 1.3768 - val_acc: 0.4705\n",
      "Epoch 11/15\n",
      "356/356 [==============================] - 44s 125ms/step - loss: 0.3141 - acc: 0.8560 - val_loss: 1.3704 - val_acc: 0.5098\n",
      "Epoch 12/15\n",
      "356/356 [==============================] - 44s 124ms/step - loss: 0.2966 - acc: 0.8623 - val_loss: 1.3980 - val_acc: 0.4670\n",
      "Epoch 13/15\n",
      "356/356 [==============================] - 44s 124ms/step - loss: 0.2822 - acc: 0.8689 - val_loss: 1.5153 - val_acc: 0.4955\n",
      "Epoch 14/15\n",
      "356/356 [==============================] - 44s 124ms/step - loss: 0.2707 - acc: 0.8736 - val_loss: 1.8543 - val_acc: 0.4437\n",
      "Epoch 15/15\n",
      "356/356 [==============================] - 44s 124ms/step - loss: 0.2730 - acc: 0.8761 - val_loss: 1.4141 - val_acc: 0.5179\n"
     ]
    }
   ],
   "source": [
    "h_15_g = models.build_hybrid_model(300)\n",
    "h_15_g.fit_generator(generator=data_generator(b_size,(x1_train,x2_train,y_train),unpack_news_data),\n",
    "                    samples_per_epoch=steps,\n",
    "                    validation_data=([x1_val,x2_val],y_val),\n",
    "                    callbacks = cbs,\n",
    "                    epochs=15,\n",
    "                    verbose=1,\n",
    "                   )\n",
    "h_15_g.save('model/h_15_g.h5')\n",
    "K.clear_session()"
   ]
  },
  {
   "cell_type": "code",
   "execution_count": null,
   "metadata": {},
   "outputs": [],
   "source": [
    "t_5 = models.build_textual_model()\n",
    "t_5.fit_generator(generator=data_generator(b_size,(x1_train,y_train),unpack_news_data),\n",
    "                    samples_per_epoch=steps,\n",
    "                    validation_data=(x1_val,y_val),\n",
    "                    callbacks = cbs,\n",
    "                    epochs=5,\n",
    "                    verbose=1,\n",
    "                   )\n",
    "t_5.save('model/t_5.h5')\n",
    "K.clear_session()"
   ]
  },
  {
   "cell_type": "code",
   "execution_count": null,
   "metadata": {},
   "outputs": [],
   "source": [
    "t_10 = models.build_textual_model()\n",
    "t_10.fit_generator(generator=data_generator(b_size,(x1_train,y_train),unpack_news_data),\n",
    "                    samples_per_epoch=steps,\n",
    "                    validation_data=(x1_val,y_val),\n",
    "                    callbacks = cbs,\n",
    "                    epochs=10,\n",
    "                    verbose=1,\n",
    "                   )\n",
    "t_10.save('model/t_10.h5')\n",
    "K.clear_session()"
   ]
  },
  {
   "cell_type": "code",
   "execution_count": null,
   "metadata": {},
   "outputs": [],
   "source": [
    "t_15 = models.build_textual_model()\n",
    "t_15.fit_generator(generator=data_generator(b_size,(x1_train,y_train),unpack_news_data),\n",
    "                    samples_per_epoch=steps,\n",
    "                    validation_data=(x1_val,y_val),\n",
    "                    callbacks = cbs,\n",
    "                    epochs=15,\n",
    "                    verbose=1,\n",
    "                   )\n",
    "t_15.save('model/t_15.h5')\n",
    "K.clear_session()"
   ]
  },
  {
   "cell_type": "code",
   "execution_count": null,
   "metadata": {},
   "outputs": [],
   "source": [
    "n_5 = models.build_numerical_model()\n",
    "n_5.fit_generator(generator=data_generator(b_size,(x2_train,y_train)),\n",
    "                    samples_per_epoch=steps,\n",
    "                    validation_data=(x2_val,y_val),\n",
    "                    callbacks = cbs,\n",
    "                    epochs = 5,\n",
    "                    verbose=1,\n",
    "                   )\n",
    "n_5.save('model/n_5.h5')\n",
    "K.clear_session()"
   ]
  },
  {
   "cell_type": "code",
   "execution_count": null,
   "metadata": {},
   "outputs": [],
   "source": [
    "n_10 = models.build_numerical_model()\n",
    "n_10.fit_generator(generator=data_generator(b_size,(x2_train,y_train)),\n",
    "                    samples_per_epoch=steps,\n",
    "                    validation_data=(x2_val,y_val),\n",
    "                    callbacks = cbs,\n",
    "                    epochs = 10,\n",
    "                    verbose=1,\n",
    "                   )\n",
    "n_10.save('model/n_10.h5')\n",
    "K.clear_session()"
   ]
  },
  {
   "cell_type": "code",
   "execution_count": null,
   "metadata": {},
   "outputs": [],
   "source": [
    "n_15 = models.build_numerical_model()\n",
    "n_15.fit_generator(generator=data_generator(b_size,(x2_train,y_train)),\n",
    "                    samples_per_epoch=steps,\n",
    "                    validation_data=(x2_val,y_val),\n",
    "                    callbacks = cbs,\n",
    "                    epochs = 15,\n",
    "                    verbose=1,\n",
    "                   )\n",
    "n_15.save('model/n_15.h5')\n",
    "K.clear_session()"
   ]
  },
  {
   "cell_type": "code",
   "execution_count": null,
   "metadata": {},
   "outputs": [],
   "source": [
    "n_20 = models.build_numerical_model()\n",
    "n_20.fit_generator(generator=data_generator(b_size,(x2_train,y_train)),\n",
    "                    samples_per_epoch=steps,\n",
    "                    validation_data=(x2_val,y_val),\n",
    "                    callbacks = cbs,\n",
    "                    epochs = 20,\n",
    "                    verbose=1,\n",
    "                   )\n",
    "n_20.save('model/n_20.h5')\n",
    "K.clear_session()"
   ]
  },
  {
   "cell_type": "code",
   "execution_count": null,
   "metadata": {},
   "outputs": [],
   "source": [
    "h_5 = models.build_hybrid_model()\n",
    "h_5.fit_generator(generator=data_generator(b_size,(x1_train,x2_train,y_train),unpack_news_data),\n",
    "                    samples_per_epoch=steps,\n",
    "                    validation_data=([x1_val,x2_val],y_val),\n",
    "                    callbacks = cbs,\n",
    "                    epochs=5,\n",
    "                    verbose=1,\n",
    "                   )\n",
    "h_5.save('model/h_5.h5')\n",
    "K.clear_session()"
   ]
  },
  {
   "cell_type": "code",
   "execution_count": null,
   "metadata": {},
   "outputs": [],
   "source": [
    "h_10 = models.build_hybrid_model()\n",
    "h_10.fit_generator(generator=data_generator(b_size,(x1_train,x2_train,y_train),unpack_news_data),\n",
    "                    samples_per_epoch=steps,\n",
    "                    validation_data=([x1_val,x2_val],y_val),\n",
    "                    callbacks = cbs,\n",
    "                    epochs=10,\n",
    "                    verbose=1,\n",
    "                   )\n",
    "h_10.save('model/h_10.h5')\n",
    "K.clear_session()"
   ]
  },
  {
   "cell_type": "code",
   "execution_count": null,
   "metadata": {},
   "outputs": [],
   "source": [
    "h_15 = models.build_hybrid_model()\n",
    "h_15.fit_generator(generator=data_generator(b_size,(x1_train,x2_train,y_train),unpack_news_data),\n",
    "                    samples_per_epoch=steps,\n",
    "                    validation_data=([x1_val,x2_val],y_val),\n",
    "                    callbacks = cbs,\n",
    "                    epochs=15,\n",
    "                    verbose=1,\n",
    "                   )\n",
    "h_15.save('model/h_15.h5')\n",
    "K.clear_session()"
   ]
  }
 ],
 "metadata": {
  "kernelspec": {
   "display_name": "deeplearning",
   "language": "python",
   "name": "deeplearning"
  },
  "language_info": {
   "codemirror_mode": {
    "name": "ipython",
    "version": 3
   },
   "file_extension": ".py",
   "mimetype": "text/x-python",
   "name": "python",
   "nbconvert_exporter": "python",
   "pygments_lexer": "ipython3",
   "version": "3.6.2"
  }
 },
 "nbformat": 4,
 "nbformat_minor": 2
}
