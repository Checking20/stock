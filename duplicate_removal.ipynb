{
 "cells": [
  {
   "cell_type": "code",
   "execution_count": null,
   "metadata": {},
   "outputs": [],
   "source": [
    "import pandas as pd\n",
    "from nltk.tokenize import word_tokenize\n",
    "from nltk.stem import WordNetLemmatizer\n",
    "from sklearn.feature_extraction.text import TfidfVectorizer\n",
    "\n",
    "import re\n",
    "import math\n",
    "import numpy as np"
   ]
  },
  {
   "cell_type": "code",
   "execution_count": null,
   "metadata": {
    "collapsed": true
   },
   "outputs": [],
   "source": [
    "NEWS_FILE = 'data/news_reuters.csv'"
   ]
  },
  {
   "cell_type": "code",
   "execution_count": null,
   "metadata": {
    "collapsed": true
   },
   "outputs": [],
   "source": [
    "col_names = ['code','name','date','headline','article','importance']\n",
    "news = pd.read_csv(NEWS_FILE,names=col_names)"
   ]
  },
  {
   "cell_type": "code",
   "execution_count": null,
   "metadata": {},
   "outputs": [],
   "source": [
    "news "
   ]
  },
  {
   "cell_type": "code",
   "execution_count": null,
   "metadata": {
    "collapsed": true
   },
   "outputs": [],
   "source": [
    "# 清洗数据(词性还原)\n",
    "def clean_news(news_raws):\n",
    "    lemma=WordNetLemmatizer()\n",
    "    news_rows=[]\n",
    "    for i in range(0,len(news_raws)):\n",
    "        news=str(news_raws[i])\n",
    "        news=re.sub('[^a-zA-Z]', ' ',news) \n",
    "        news=[lemma.lemmatize(w) for w in word_tokenize(str(news).lower())]  # 词性还原\n",
    "        news=' '.join(news)\n",
    "        news_rows.append(news)\n",
    "    return news_rows"
   ]
  },
  {
   "cell_type": "code",
   "execution_count": null,
   "metadata": {},
   "outputs": [],
   "source": [
    "news['text'] = clean_news(news['headline']+news['article'])"
   ]
  },
  {
   "cell_type": "code",
   "execution_count": null,
   "metadata": {},
   "outputs": [],
   "source": [
    "vectorizer = TfidfVectorizer(stop_words='english')\n",
    "vectorizer.fit(news['text'] )"
   ]
  },
  {
   "cell_type": "code",
   "execution_count": null,
   "metadata": {},
   "outputs": [],
   "source": [
    "word=vectorizer.get_feature_names()"
   ]
  },
  {
   "cell_type": "code",
   "execution_count": null,
   "metadata": {},
   "outputs": [],
   "source": [
    "def remove_deplicates(news_file,rad=10,threshold = 0.9):\n",
    "    dp_list = set()\n",
    "    tops = news.loc[news['importance']=='topStory']\n",
    "    for index in tops.index:\n",
    "        top = list()\n",
    "        top.append(str(news['text'].loc[index]))\n",
    "        li = list(range(index-rad,index+rad+1))\n",
    "        win = [ str(item) for item in news['text'].loc[li]]\n",
    "        top = vectorizer.transform(top).toarray()[0]\n",
    "        win = vectorizer.transform(win).toarray()\n",
    "        for i in range(len(win)):\n",
    "            cur = win[i]\n",
    "            up = np.dot(top,cur)\n",
    "            down = math.sqrt(np.dot(top,top))*math.sqrt(np.dot(cur ,cur))\n",
    "            if down == 0 :\n",
    "                continue\n",
    "            sim = up/down\n",
    "            if sim > threshold and rad!=i:\n",
    "                dp_list.add(index-rad+i)\n",
    "    return dp_list"
   ]
  },
  {
   "cell_type": "code",
   "execution_count": null,
   "metadata": {},
   "outputs": [],
   "source": [
    "dp_list = remove_deplicates(news)"
   ]
  },
  {
   "cell_type": "code",
   "execution_count": null,
   "metadata": {},
   "outputs": [],
   "source": [
    "news2 = news.drop(list(dp_list))"
   ]
  },
  {
   "cell_type": "code",
   "execution_count": null,
   "metadata": {},
   "outputs": [],
   "source": [
    "news2 = news2.drop(['name','date','headline','article'],axis=1)"
   ]
  },
  {
   "cell_type": "code",
   "execution_count": null,
   "metadata": {
    "collapsed": true
   },
   "outputs": [],
   "source": []
  }
 ],
 "metadata": {
  "kernelspec": {
   "display_name": "deeplearning",
   "language": "python",
   "name": "deeplearning"
  },
  "language_info": {
   "codemirror_mode": {
    "name": "ipython",
    "version": 3
   },
   "file_extension": ".py",
   "mimetype": "text/x-python",
   "name": "python",
   "nbconvert_exporter": "python",
   "pygments_lexer": "ipython3",
   "version": "3.6.2"
  }
 },
 "nbformat": 4,
 "nbformat_minor": 2
}
